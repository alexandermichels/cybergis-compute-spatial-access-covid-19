{
 "cells": [
  {
   "cell_type": "markdown",
   "id": "b8312775-c8ed-4eb9-a564-f11ffb11c453",
   "metadata": {},
   "source": [
    "# Rapidly measuring spatial accessibility of COVID-19 healthcare resources: a case study of Illinois, USA\n",
    "\n",
    "This notebook briefly walks through calculating spatial accessibility to hospital ventilators in Chicago, IL. This work uses the code from the following paper:\n",
    "\n",
    "> Kang, JY., Michels, A., Lyu, F. et al. Rapidly measuring spatial accessibility of COVID-19 healthcare resources: a case study of Illinois, USA. Int J Health Geogr 19, 36 (2020). https://doi.org/10.1186/s12942-020-00229-x\n",
    "\n",
    "**Paper Authors:** Jeon-Young Kang, Alexander Michels, Fangzheng Lyu, Shaohua Wang, Nelson Agbodo, Vincent L. Freeman & Shaowen Wang\n",
    "\n",
    "**Notebook Authors:** Alexander Michels, Zimo Xiao, Anand Padmanabhan, Zhiyu Li, Shaowen Wang, Mit Kotak and Taylor Ziegler"
   ]
  },
  {
   "cell_type": "code",
   "execution_count": 1,
   "id": "cb83b9b6-40a0-4b07-9a25-3688354cc86a",
   "metadata": {},
   "outputs": [],
   "source": [
    "import contextily as cx\n",
    "import geopandas as gpd\n",
    "import os"
   ]
  },
  {
   "cell_type": "code",
   "execution_count": 2,
   "id": "67a660dc-d192-455d-bcf3-265269eba337",
   "metadata": {
    "tags": []
   },
   "outputs": [],
   "source": [
    "from cybergis_compute_client import CyberGISCompute\n",
    "\n",
    "cybergis = CyberGISCompute(url=\"cgjobsup.cigi.illinois.edu\", isJupyter=True, protocol=\"HTTPS\", port=443, suffix=\"v2\")"
   ]
  },
  {
   "cell_type": "code",
   "execution_count": 3,
   "id": "1c0122e9-3ef9-46c7-af40-99adf4778da2",
   "metadata": {},
   "outputs": [
    {
     "data": {
      "application/vnd.jupyter.widget-view+json": {
       "model_id": "1de45ac5897847e8a11a7935653c7598",
       "version_major": 2,
       "version_minor": 0
      },
      "text/plain": [
       "Tab(children=(Output(), Output(), Output(), Output()), _titles={'0': 'Job Configuration', '1': 'Your Job Statu…"
      ]
     },
     "metadata": {},
     "output_type": "display_data"
    }
   ],
   "source": [
    "cybergis.show_ui()"
   ]
  },
  {
   "cell_type": "code",
   "execution_count": 4,
   "id": "9ce14092-9634-433b-a7e0-40e802fb4e6c",
   "metadata": {},
   "outputs": [
    {
     "name": "stdout",
     "output_type": "stream",
     "text": [
      "Our outputs are at /home/jovyan/work/globus_download_1658163317OGclc\n"
     ]
    }
   ],
   "source": [
    "download_path = cybergis.recentDownloadPath\n",
    "print(f\"Our outputs are at {download_path}\")"
   ]
  },
  {
   "cell_type": "code",
   "execution_count": 5,
   "id": "1f2dc2b6-3c4a-41a8-9b5d-976e4e6f163d",
   "metadata": {},
   "outputs": [
    {
     "name": "stdout",
     "output_type": "stream",
     "text": [
      "map.png  result.geojson  slurm_log\n"
     ]
    }
   ],
   "source": [
    "!ls {download_path}"
   ]
  },
  {
   "cell_type": "code",
   "execution_count": 6,
   "id": "a6974ec9-82e9-4765-8f88-9a168506d732",
   "metadata": {},
   "outputs": [
    {
     "data": {
      "text/html": [
       "<div>\n",
       "<style scoped>\n",
       "    .dataframe tbody tr th:only-of-type {\n",
       "        vertical-align: middle;\n",
       "    }\n",
       "\n",
       "    .dataframe tbody tr th {\n",
       "        vertical-align: top;\n",
       "    }\n",
       "\n",
       "    .dataframe thead th {\n",
       "        text-align: right;\n",
       "    }\n",
       "</style>\n",
       "<table border=\"1\" class=\"dataframe\">\n",
       "  <thead>\n",
       "    <tr style=\"text-align: right;\">\n",
       "      <th></th>\n",
       "      <th>left</th>\n",
       "      <th>top</th>\n",
       "      <th>right</th>\n",
       "      <th>bottom</th>\n",
       "      <th>id</th>\n",
       "      <th>area</th>\n",
       "      <th>hospital_vents</th>\n",
       "      <th>geometry</th>\n",
       "    </tr>\n",
       "  </thead>\n",
       "  <tbody>\n",
       "    <tr>\n",
       "      <th>0</th>\n",
       "      <td>440843.416087</td>\n",
       "      <td>4.638515e+06</td>\n",
       "      <td>441420.766356</td>\n",
       "      <td>4.638015e+06</td>\n",
       "      <td>4158</td>\n",
       "      <td>216661.173</td>\n",
       "      <td>0.000624</td>\n",
       "      <td>POLYGON ((440843.416 4638265.403, 440987.754 4...</td>\n",
       "    </tr>\n",
       "    <tr>\n",
       "      <th>1</th>\n",
       "      <td>440843.416087</td>\n",
       "      <td>4.638015e+06</td>\n",
       "      <td>441420.766356</td>\n",
       "      <td>4.637515e+06</td>\n",
       "      <td>4159</td>\n",
       "      <td>216661.168</td>\n",
       "      <td>0.000626</td>\n",
       "      <td>POLYGON ((440843.416 4637765.403, 440987.754 4...</td>\n",
       "    </tr>\n",
       "    <tr>\n",
       "      <th>2</th>\n",
       "      <td>440843.416087</td>\n",
       "      <td>4.639515e+06</td>\n",
       "      <td>441420.766356</td>\n",
       "      <td>4.639015e+06</td>\n",
       "      <td>4156</td>\n",
       "      <td>216661.169</td>\n",
       "      <td>0.000646</td>\n",
       "      <td>POLYGON ((440843.416 4639265.403, 440987.754 4...</td>\n",
       "    </tr>\n",
       "    <tr>\n",
       "      <th>3</th>\n",
       "      <td>440843.416087</td>\n",
       "      <td>4.639015e+06</td>\n",
       "      <td>441420.766356</td>\n",
       "      <td>4.638515e+06</td>\n",
       "      <td>4157</td>\n",
       "      <td>216661.171</td>\n",
       "      <td>0.000637</td>\n",
       "      <td>POLYGON ((440843.416 4638765.403, 440987.754 4...</td>\n",
       "    </tr>\n",
       "    <tr>\n",
       "      <th>4</th>\n",
       "      <td>440843.416087</td>\n",
       "      <td>4.640515e+06</td>\n",
       "      <td>441420.766356</td>\n",
       "      <td>4.640015e+06</td>\n",
       "      <td>4154</td>\n",
       "      <td>216661.171</td>\n",
       "      <td>0.000635</td>\n",
       "      <td>POLYGON ((440843.416 4640265.403, 440987.754 4...</td>\n",
       "    </tr>\n",
       "  </tbody>\n",
       "</table>\n",
       "</div>"
      ],
      "text/plain": [
       "            left           top          right        bottom    id        area  \\\n",
       "0  440843.416087  4.638515e+06  441420.766356  4.638015e+06  4158  216661.173   \n",
       "1  440843.416087  4.638015e+06  441420.766356  4.637515e+06  4159  216661.168   \n",
       "2  440843.416087  4.639515e+06  441420.766356  4.639015e+06  4156  216661.169   \n",
       "3  440843.416087  4.639015e+06  441420.766356  4.638515e+06  4157  216661.171   \n",
       "4  440843.416087  4.640515e+06  441420.766356  4.640015e+06  4154  216661.171   \n",
       "\n",
       "   hospital_vents                                           geometry  \n",
       "0        0.000624  POLYGON ((440843.416 4638265.403, 440987.754 4...  \n",
       "1        0.000626  POLYGON ((440843.416 4637765.403, 440987.754 4...  \n",
       "2        0.000646  POLYGON ((440843.416 4639265.403, 440987.754 4...  \n",
       "3        0.000637  POLYGON ((440843.416 4638765.403, 440987.754 4...  \n",
       "4        0.000635  POLYGON ((440843.416 4640265.403, 440987.754 4...  "
      ]
     },
     "execution_count": 6,
     "metadata": {},
     "output_type": "execute_result"
    }
   ],
   "source": [
    "result_path = os.path.join(download_path, \"result.geojson\")\n",
    "gdf = gpd.read_file(result_path)\n",
    "gdf.head()"
   ]
  },
  {
   "cell_type": "code",
   "execution_count": 7,
   "id": "863e7506-de78-4001-a0dd-b35150f75784",
   "metadata": {},
   "outputs": [
    {
     "data": {
      "image/png": "[encoded data removed]",
      "text/plain": [
       "<Figure size 576x720 with 2 Axes>"
      ]
     },
     "metadata": {
      "needs_background": "light"
     },
     "output_type": "display_data"
    }
   ],
   "source": [
    "ax = gdf.plot(column=\"hospital_vents\", cmap=\"OrRd\", figsize=(8,10), legend=True)\n",
    "cx.add_basemap(ax, crs=gdf.crs.to_string())"
   ]
  },
  {
   "cell_type": "code",
   "execution_count": null,
   "id": "7c610644-9281-479f-9501-25fbfd01e22f",
   "metadata": {},
   "outputs": [],
   "source": [
    "gdf.explore(column=\"hospital_vents\", cmap=\"OrRd\")"
   ]
  },
  {
   "cell_type": "code",
   "execution_count": null,
   "id": "830007fe-10d3-4d9f-9c24-90c5d5ddbfe3",
   "metadata": {},
   "outputs": [],
   "source": []
  }
 ],
 "metadata": {
  "kernelspec": {
   "display_name": "Python 3",
   "language": "python",
   "name": "python3"
  },
  "language_info": {
   "codemirror_mode": {
    "name": "ipython",
    "version": 3
   },
   "file_extension": ".py",
   "mimetype": "text/x-python",
   "name": "python",
   "nbconvert_exporter": "python",
   "pygments_lexer": "ipython3",
   "version": "3.8.12"
  },
  "widgets": {
   "application/vnd.jupyter.widget-state+json": {
    "state": {
     "00952242e366447e9c365f80c70bc6cf": {
      "model_module": "@jupyter-widgets/controls",
      "model_module_version": "1.5.0",
      "model_name": "DescriptionStyleModel",
      "state": {
       "description_width": ""
      }
     },
     "018c315eafb945af95b0cb63a998a97c": {
      "model_module": "@jupyter-widgets/controls",
      "model_module_version": "1.5.0",
      "model_name": "DescriptionStyleModel",
      "state": {
       "description_width": ""
      }
     },
     "03c11f00184f4723aba640f614348495": {
      "model_module": "@jupyter-widgets/controls",
      "model_module_version": "1.5.0",
      "model_name": "ButtonStyleModel",
      "state": {}
     },
     "044a236693ab4aada1bbc1e682e48bdd": {
      "model_module": "@jupyter-widgets/controls",
      "model_module_version": "1.5.0",
      "model_name": "IntSliderModel",
      "state": {
       "continuous_update": false,
       "description": "time (Minutes)",
       "layout": "IPY_MODEL_106b2a2770c34e1785023edd71757b63",
       "max": 50,
       "min": 10,
       "style": "IPY_MODEL_1825aa69c6294241bf85a0bab96ce48d",
       "value": 20
      }
     },
     "04be545c2fc2434d92b7fb118d58599f": {
      "model_module": "@jupyter-widgets/base",
      "model_module_version": "1.2.0",
      "model_name": "LayoutModel",
      "state": {}
     },
     "0628edf78cd64e54b7d14e49e5a9bc87": {
      "model_module": "@jupyter-widgets/controls",
      "model_module_version": "1.5.0",
      "model_name": "DropdownModel",
      "state": {
       "_options_labels": [
        "foo",
        "bar"
       ],
       "description": "input_b",
       "index": 0,
       "layout": "IPY_MODEL_e7cc31dd38b244648b6fc38eb2a760f7",
       "style": "IPY_MODEL_5503f95dd0e14364809dc1ac28b7e6bd"
      }
     },
     "06ef06ae4ec24df5b15b300e0c7af830": {
      "model_module": "@jupyter-widgets/base",
      "model_module_version": "1.2.0",
      "model_name": "LayoutModel",
      "state": {}
     },
     "0960857b8c5b439aa31988fd9089cd90": {
      "model_module": "@jupyter-widgets/controls",
      "model_module_version": "1.5.0",
      "model_name": "SliderStyleModel",
      "state": {
       "description_width": "auto"
      }
     },
     "09b9aad490644b2a901aa2075121228d": {
      "model_module": "@jupyter-widgets/base",
      "model_module_version": "1.2.0",
      "model_name": "LayoutModel",
      "state": {}
     },
     "0c3a696a165b46eb841f03b4cd26a7de": {
      "model_module": "@jupyter-widgets/controls",
      "model_module_version": "1.5.0",
      "model_name": "ButtonModel",
      "state": {
       "description": "🔁 Loading",
       "disabled": true,
       "layout": "IPY_MODEL_592092d096a441eaa448199cca8002e5",
       "style": "IPY_MODEL_03c11f00184f4723aba640f614348495"
      }
     },
     "0cef50320ccf45db9cf30c5321de30c2": {
      "model_module": "@jupyter-widgets/base",
      "model_module_version": "1.2.0",
      "model_name": "LayoutModel",
      "state": {}
     },
     "0d7fa44180cc4ad7bea49056e160b7b8": {
      "model_module": "@jupyter-widgets/base",
      "model_module_version": "1.2.0",
      "model_name": "LayoutModel",
      "state": {}
     },
     "0dfa839a8a6b4c3c8398f3b7b8f38ae9": {
      "model_module": "@jupyter-widgets/base",
      "model_module_version": "1.2.0",
      "model_name": "LayoutModel",
      "state": {}
     },
     "0ef587191b25497ab5c2adce94e0e3f8": {
      "model_module": "@jupyter-widgets/base",
      "model_module_version": "1.2.0",
      "model_name": "LayoutModel",
      "state": {}
     },
     "0f464930935b4395b21d25f9de1588f2": {
      "model_module": "@jupyter-widgets/base",
      "model_module_version": "1.2.0",
      "model_name": "LayoutModel",
      "state": {}
     },
     "106b2a2770c34e1785023edd71757b63": {
      "model_module": "@jupyter-widgets/base",
      "model_module_version": "1.2.0",
      "model_name": "LayoutModel",
      "state": {
       "width": "60%"
      }
     },
     "107aae84e6a1420796c98e6851c2c8d8": {
      "model_module": "@jupyter-widgets/output",
      "model_module_version": "1.0.0",
      "model_name": "OutputModel",
      "state": {
       "layout": "IPY_MODEL_93d99227a54d41abb98e1c2df1bd6945",
       "outputs": [
        {
         "data": {
          "application/vnd.jupyter.widget-view+json": {
           "model_id": "dc536dcb7bd2464287b1e40050fca460",
           "version_major": 2,
           "version_minor": 0
          },
          "text/plain": "Accordion(children=(Dropdown(description='🖥 Computing Recourse:', layout=Layout(width='60%'), options=('keelin…"
         },
         "metadata": {},
         "output_type": "display_data"
        }
       ]
      }
     },
     "115aa8ba40a442c58cc62fd87099e6f4": {
      "model_module": "@jupyter-widgets/base",
      "model_module_version": "1.2.0",
      "model_name": "LayoutModel",
      "state": {}
     },
     "12d52549b64646f3a28b2ea38d9306a4": {
      "model_module": "@jupyter-widgets/controls",
      "model_module_version": "1.5.0",
      "model_name": "SliderStyleModel",
      "state": {
       "description_width": "auto"
      }
     },
     "1544c3c05e2d4efc8722c8c3e0f71555": {
      "model_module": "@jupyter-widgets/controls",
      "model_module_version": "1.5.0",
      "model_name": "ButtonStyleModel",
      "state": {}
     },
     "165f3d88b49b461c967d9da4c76ef6a7": {
      "model_module": "@jupyter-widgets/base",
      "model_module_version": "1.2.0",
      "model_name": "LayoutModel",
      "state": {}
     },
     "1768d2e93e1543f5b2a8e16e07959d8b": {
      "model_module": "@jupyter-widgets/output",
      "model_module_version": "1.0.0",
      "model_name": "OutputModel",
      "state": {
       "layout": "IPY_MODEL_dd2a02b77ade437aabe62e79679d0aa5",
       "outputs": [
        {
         "name": "stdout",
         "output_type": "stream",
         "text": "\u001b[H\u001b[2J📮 Job ID: 1658163317OGclc\n🤖 Slurm ID: 856641\n"
        },
        {
         "data": {
          "text/html": "<table>\n<thead>\n<tr><th>types         </th><th>message                                                                            </th><th>time                    </th></tr>\n</thead>\n<tbody>\n<tr><td>JOB_QUEUED    </td><td>job [1658163317OGclc] is queued, waiting for registration                          </td><td>2022-07-18T16:55:16.000Z</td></tr>\n<tr><td>JOB_REGISTERED</td><td>job [1658163317OGclc] is registered with the supervisor, waiting for initialization</td><td>2022-07-18T16:55:17.000Z</td></tr>\n<tr><td>JOB_INIT      </td><td>job [1658163317OGclc] is initialized, waiting for job completion                   </td><td>2022-07-18T16:55:26.000Z</td></tr>\n<tr><td>JOB_ENDED     </td><td>job [1658163317OGclc] finished                                                     </td><td>2022-07-18T17:08:04.000Z</td></tr>\n</tbody>\n</table>",
          "text/plain": "<IPython.core.display.HTML object>"
         },
         "metadata": {},
         "output_type": "display_data"
        }
       ]
      }
     },
     "177d135f35394e94aa297e51d4a65066": {
      "model_module": "@jupyter-widgets/controls",
      "model_module_version": "1.5.0",
      "model_name": "ButtonStyleModel",
      "state": {}
     },
     "1825aa69c6294241bf85a0bab96ce48d": {
      "model_module": "@jupyter-widgets/controls",
      "model_module_version": "1.5.0",
      "model_name": "SliderStyleModel",
      "state": {
       "description_width": "auto"
      }
     },
     "189cccef35dc4f30b79916e899b6e122": {
      "model_module": "@jupyter-widgets/base",
      "model_module_version": "1.2.0",
      "model_name": "LayoutModel",
      "state": {}
     },
     "18f9984ecc5644118694997be4043582": {
      "model_module": "@jupyter-widgets/controls",
      "model_module_version": "1.5.0",
      "model_name": "SliderStyleModel",
      "state": {
       "description_width": "auto"
      }
     },
     "1a7cd8b952a5444f8906ece14bafce25": {
      "model_module": "@jupyter-widgets/controls",
      "model_module_version": "1.5.0",
      "model_name": "DescriptionStyleModel",
      "state": {
       "description_width": ""
      }
     },
     "1d832c7d9b264694b16e93a2a6a1c037": {
      "model_module": "@jupyter-widgets/controls",
      "model_module_version": "1.5.0",
      "model_name": "ButtonModel",
      "state": {
       "description": "Restore",
       "layout": "IPY_MODEL_8ffea6384a5c48499ca7d0c165fdf789",
       "style": "IPY_MODEL_dc4ef383a1bf4dbaa76d0982d76d3320"
      }
     },
     "1de45ac5897847e8a11a7935653c7598": {
      "model_module": "@jupyter-widgets/controls",
      "model_module_version": "1.5.0",
      "model_name": "TabModel",
      "state": {
       "_titles": {
        "0": "✅ Your Job Status",
        "1": "Your Job Status",
        "2": "✅ Download Job Result",
        "3": "Your Jobs"
       },
       "children": [
        "IPY_MODEL_2304bdb2c1264a31a48ae2b97cb84b32",
        "IPY_MODEL_ea6a5782b1964864b921bcebf2276559",
        "IPY_MODEL_9c4abcfb65564053a5010b0a2af2dfbb",
        "IPY_MODEL_98051d76fc9846b1ac336e952c36fb95"
       ],
       "layout": "IPY_MODEL_3ff0f2cd6395428d8f2a4318662f6e2d",
       "selected_index": 2
      }
     },
     "1f3f3cfd450c49b388e04c0fef5e1d7a": {
      "model_module": "@jupyter-widgets/controls",
      "model_module_version": "1.5.0",
      "model_name": "LabelModel",
      "state": {
       "layout": "IPY_MODEL_73e4455fe4a1439888af72980e4259f2",
       "style": "IPY_MODEL_1a7cd8b952a5444f8906ece14bafce25",
       "value": "All configs are optional. Please refer to Slurm official documentation at 🔗 https://slurm.schedmd.com/sbatch.html"
      }
     },
     "1fc972461d4f45428da96c156da7290e": {
      "model_module": "@jupyter-widgets/controls",
      "model_module_version": "1.5.0",
      "model_name": "DescriptionStyleModel",
      "state": {
       "description_width": ""
      }
     },
     "1ffaa167ac55480fab91783bdc4685c7": {
      "model_module": "@jupyter-widgets/controls",
      "model_module_version": "1.5.0",
      "model_name": "AccordionModel",
      "state": {
       "_titles": {
        "0": "Slurm Computing Configurations"
       },
       "children": [
        "IPY_MODEL_2a331ba71228446aa5f05895b8ee39c5"
       ],
       "layout": "IPY_MODEL_0f464930935b4395b21d25f9de1588f2",
       "selected_index": null
      }
     },
     "218919572545408684c5a146a0658ed3": {
      "model_module": "@jupyter-widgets/controls",
      "model_module_version": "1.5.0",
      "model_name": "SliderStyleModel",
      "state": {
       "description_width": "auto"
      }
     },
     "226b160cd91f4421b26aec57d13825b8": {
      "model_module": "@jupyter-widgets/controls",
      "model_module_version": "1.5.0",
      "model_name": "DropdownModel",
      "state": {
       "_options_labels": [
        "keeling_community"
       ],
       "description": "🖥 Computing Recourse:",
       "index": 0,
       "layout": "IPY_MODEL_106b2a2770c34e1785023edd71757b63",
       "style": "IPY_MODEL_3f45300582364d2587bd70f29f62b49e"
      }
     },
     "2304bdb2c1264a31a48ae2b97cb84b32": {
      "model_module": "@jupyter-widgets/output",
      "model_module_version": "1.0.0",
      "model_name": "OutputModel",
      "state": {
       "layout": "IPY_MODEL_764ba9f4c543498f96cd747c3c5baf87",
       "outputs": [
        {
         "data": {
          "text/markdown": "# Welcome to CyberGIS-Compute",
          "text/plain": "<IPython.core.display.Markdown object>"
         },
         "metadata": {},
         "output_type": "display_data"
        },
        {
         "data": {
          "text/markdown": "A scalable middleware framework for enabling high-performance and data-intensive geospatial research and education on CyberGIS-Jupyter",
          "text/plain": "<IPython.core.display.Markdown object>"
         },
         "metadata": {},
         "output_type": "display_data"
        },
        {
         "data": {
          "text/markdown": "***",
          "text/plain": "<IPython.core.display.Markdown object>"
         },
         "metadata": {},
         "output_type": "display_data"
        },
        {
         "data": {
          "application/vnd.jupyter.widget-view+json": {
           "model_id": "500ef5add1924f8e98b4bc50d1e29960",
           "version_major": 2,
           "version_minor": 0
          },
          "text/plain": "Output()"
         },
         "metadata": {},
         "output_type": "display_data"
        },
        {
         "data": {
          "application/vnd.jupyter.widget-view+json": {
           "model_id": "b8425044d79e42259496486d413af880",
           "version_major": 2,
           "version_minor": 0
          },
          "text/plain": "Output()"
         },
         "metadata": {},
         "output_type": "display_data"
        },
        {
         "data": {
          "application/vnd.jupyter.widget-view+json": {
           "model_id": "107aae84e6a1420796c98e6851c2c8d8",
           "version_major": 2,
           "version_minor": 0
          },
          "text/plain": "Output()"
         },
         "metadata": {},
         "output_type": "display_data"
        },
        {
         "data": {
          "application/vnd.jupyter.widget-view+json": {
           "model_id": "8d5fe590d3f142699a572c45ecbf1df8",
           "version_major": 2,
           "version_minor": 0
          },
          "text/plain": "Output()"
         },
         "metadata": {},
         "output_type": "display_data"
        },
        {
         "data": {
          "application/vnd.jupyter.widget-view+json": {
           "model_id": "432bb3387ae04b32b88ab459180811f1",
           "version_major": 2,
           "version_minor": 0
          },
          "text/plain": "Output()"
         },
         "metadata": {},
         "output_type": "display_data"
        },
        {
         "data": {
          "application/vnd.jupyter.widget-view+json": {
           "model_id": "747815329c2741e7b1bc599ef0678fd1",
           "version_major": 2,
           "version_minor": 0
          },
          "text/plain": "Output()"
         },
         "metadata": {},
         "output_type": "display_data"
        },
        {
         "data": {
          "application/vnd.jupyter.widget-view+json": {
           "model_id": "5d50a7050b7c415fbcdd312076707b0a",
           "version_major": 2,
           "version_minor": 0
          },
          "text/plain": "Output()"
         },
         "metadata": {},
         "output_type": "display_data"
        },
        {
         "data": {
          "application/vnd.jupyter.widget-view+json": {
           "model_id": "8d1c5220c8eb4fb8a43eac0c651d5afb",
           "version_major": 2,
           "version_minor": 0
          },
          "text/plain": "Output()"
         },
         "metadata": {},
         "output_type": "display_data"
        }
       ]
      }
     },
     "234eb1c9484f4c9ba5dfa971a51be186": {
      "model_module": "@jupyter-widgets/base",
      "model_module_version": "1.2.0",
      "model_name": "LayoutModel",
      "state": {}
     },
     "2380a65175fe4944bd96f1b629297e71": {
      "model_module": "@jupyter-widgets/controls",
      "model_module_version": "1.5.0",
      "model_name": "SliderStyleModel",
      "state": {
       "description_width": "auto"
      }
     },
     "238534c1e0e94424a9de10f6e1ee7d04": {
      "model_module": "@jupyter-widgets/base",
      "model_module_version": "1.2.0",
      "model_name": "LayoutModel",
      "state": {}
     },
     "23c7844befbc42ac9de83510ede4cf19": {
      "model_module": "@jupyter-widgets/base",
      "model_module_version": "1.2.0",
      "model_name": "LayoutModel",
      "state": {}
     },
     "2565135ec7594bfcbbfdf774eb0c044d": {
      "model_module": "@jupyter-widgets/controls",
      "model_module_version": "1.5.0",
      "model_name": "AccordionModel",
      "state": {
       "_titles": {
        "0": "Input Parameters"
       },
       "children": [
        "IPY_MODEL_85da2bbf6325468389d77c789fa5a601"
       ],
       "layout": "IPY_MODEL_04be545c2fc2434d92b7fb118d58599f",
       "selected_index": null
      }
     },
     "27482a1ab2a24b3d8e16f3b0861692c9": {
      "model_module": "@jupyter-widgets/base",
      "model_module_version": "1.2.0",
      "model_name": "LayoutModel",
      "state": {}
     },
     "27c9accced514166b08e0794c2da3104": {
      "model_module": "@jupyter-widgets/base",
      "model_module_version": "1.2.0",
      "model_name": "LayoutModel",
      "state": {}
     },
     "28cd905392f24d769ad1c82e85b581fa": {
      "model_module": "@jupyter-widgets/controls",
      "model_module_version": "1.5.0",
      "model_name": "ButtonModel",
      "state": {
       "description": "🔁 Loading",
       "disabled": true,
       "layout": "IPY_MODEL_56df9fd96462412d916530459f605c7f",
       "style": "IPY_MODEL_177d135f35394e94aa297e51d4a65066"
      }
     },
     "2912e0c0f7bb408abcb6bf575cf9d458": {
      "model_module": "@jupyter-widgets/controls",
      "model_module_version": "1.5.0",
      "model_name": "ButtonStyleModel",
      "state": {}
     },
     "2a331ba71228446aa5f05895b8ee39c5": {
      "model_module": "@jupyter-widgets/controls",
      "model_module_version": "1.5.0",
      "model_name": "VBoxModel",
      "state": {
       "children": [
        "IPY_MODEL_1f3f3cfd450c49b388e04c0fef5e1d7a",
        "IPY_MODEL_dbc9ea7c0f7d4246b0552e8ba39b5726"
       ],
       "layout": "IPY_MODEL_189cccef35dc4f30b79916e899b6e122"
      }
     },
     "2a988d60d3154c4884ff9acf35758a35": {
      "model_module": "@jupyter-widgets/controls",
      "model_module_version": "1.5.0",
      "model_name": "AccordionModel",
      "state": {
       "_titles": {
        "0": "Slurm Computing Configurations"
       },
       "children": [
        "IPY_MODEL_3c361646e6294c53a1d325a2b9d4630e"
       ],
       "layout": "IPY_MODEL_8c42749352994e2c9f103d91bc736641",
       "selected_index": null
      }
     },
     "2b38d3e07e0147d3a2627369593bd423": {
      "model_module": "@jupyter-widgets/controls",
      "model_module_version": "1.5.0",
      "model_name": "LabelModel",
      "state": {
       "layout": "IPY_MODEL_3a5691026d28481e8f1986fc159c649b",
       "style": "IPY_MODEL_e927179e51414193a31396674112cc70",
       "value": "All configs are optional. Please refer to Slurm official documentation at 🔗 https://slurm.schedmd.com/sbatch.html"
      }
     },
     "2bc2d226a08d46358bc4c407d43581be": {
      "model_module": "@jupyter-widgets/base",
      "model_module_version": "1.2.0",
      "model_name": "LayoutModel",
      "state": {}
     },
     "2c7b434449e743f9b3b557aaed03416c": {
      "model_module": "@jupyter-widgets/output",
      "model_module_version": "1.0.0",
      "model_name": "OutputModel",
      "state": {
       "layout": "IPY_MODEL_5db14fbb295d4c849edcd95f0d990675",
       "outputs": [
        {
         "name": "stdout",
         "output_type": "stream",
         "text": "\u001b[H\u001b[2J✅ download success!\nplease check your data at your root folder under \"globus_download_1658163317OGclc\"\n"
        }
       ]
      }
     },
     "2d5685ebda17484aaf6563b8f372967f": {
      "model_module": "@jupyter-widgets/base",
      "model_module_version": "1.2.0",
      "model_name": "LayoutModel",
      "state": {}
     },
     "2d906337f7464e1c9f99561626948731": {
      "model_module": "@jupyter-widgets/controls",
      "model_module_version": "1.5.0",
      "model_name": "ButtonModel",
      "state": {
       "description": "🔁 Loading",
       "disabled": true,
       "layout": "IPY_MODEL_b449a3f6702042ce9980b527a33250e6",
       "style": "IPY_MODEL_37a1f86266df4faa93c45f378e7adfea"
      }
     },
     "2d9541de8312496198346bf10223334e": {
      "model_module": "@jupyter-widgets/controls",
      "model_module_version": "1.5.0",
      "model_name": "AccordionModel",
      "state": {
       "_titles": {
        "0": "Input Parameters"
       },
       "children": [
        "IPY_MODEL_f702ec4e09904af3b4c61e643e3f1a08"
       ],
       "layout": "IPY_MODEL_823230b1bd2940cdb6bd5f46a57e4b25",
       "selected_index": null
      }
     },
     "2f6c2e08cd1a462ea7d361ef65f3bfef": {
      "model_module": "@jupyter-widgets/controls",
      "model_module_version": "1.5.0",
      "model_name": "TextModel",
      "state": {
       "layout": "IPY_MODEL_bb02a82fdea6451a9fcec4ed83b6beca",
       "style": "IPY_MODEL_a2d1a463364d432db111d37d5056b2fe",
       "value": "example@illinois.edu"
      }
     },
     "31474e3f1a7e4fe9a856a987353e49cd": {
      "model_module": "@jupyter-widgets/base",
      "model_module_version": "1.2.0",
      "model_name": "LayoutModel",
      "state": {}
     },
     "31948a892ce04503a86a7ab5af449637": {
      "model_module": "@jupyter-widgets/controls",
      "model_module_version": "1.5.0",
      "model_name": "ButtonModel",
      "state": {
       "description": "Restore",
       "layout": "IPY_MODEL_f27a2c5f95bc444681d45a2789cb9af8",
       "style": "IPY_MODEL_da36596f852749c6a2daad900f1dba14"
      }
     },
     "3683ca06743a496c9e036336c6e69c93": {
      "model_module": "@jupyter-widgets/base",
      "model_module_version": "1.2.0",
      "model_name": "LayoutModel",
      "state": {}
     },
     "368f00773654481fb3c9429659b91f3a": {
      "model_module": "@jupyter-widgets/base",
      "model_module_version": "1.2.0",
      "model_name": "LayoutModel",
      "state": {}
     },
     "37a1f86266df4faa93c45f378e7adfea": {
      "model_module": "@jupyter-widgets/controls",
      "model_module_version": "1.5.0",
      "model_name": "ButtonStyleModel",
      "state": {}
     },
     "37d42ad0b1394ed5bb618fc0d02bf768": {
      "model_module": "@jupyter-widgets/controls",
      "model_module_version": "1.5.0",
      "model_name": "ButtonModel",
      "state": {
       "description": "🔁 Loading",
       "disabled": true,
       "layout": "IPY_MODEL_71d849a25e1145cabb815e2405b8de14",
       "style": "IPY_MODEL_2912e0c0f7bb408abcb6bf575cf9d458"
      }
     },
     "3a5691026d28481e8f1986fc159c649b": {
      "model_module": "@jupyter-widgets/base",
      "model_module_version": "1.2.0",
      "model_name": "LayoutModel",
      "state": {}
     },
     "3a709a07c8db45509ab3dd21e02b065a": {
      "model_module": "@jupyter-widgets/output",
      "model_module_version": "1.0.0",
      "model_name": "OutputModel",
      "state": {
       "layout": "IPY_MODEL_ce5b8bae90cb40678581d4112b428d6e",
       "outputs": [
        {
         "name": "stdout",
         "output_type": "stream",
         "text": "💻 Found system token\n🎯 Logged in as alexandermichels@cybergisx.cigi.illinois.edu\n"
        }
       ]
      }
     },
     "3b0e48651ad847e4b6518f807d00e234": {
      "model_module": "@jupyter-widgets/controls",
      "model_module_version": "1.5.0",
      "model_name": "DescriptionStyleModel",
      "state": {
       "description_width": "auto"
      }
     },
     "3c361646e6294c53a1d325a2b9d4630e": {
      "model_module": "@jupyter-widgets/controls",
      "model_module_version": "1.5.0",
      "model_name": "VBoxModel",
      "state": {
       "children": [
        "IPY_MODEL_2b38d3e07e0147d3a2627369593bd423",
        "IPY_MODEL_4e2ec47cbc814a28a958963fafa39d4b"
       ],
       "layout": "IPY_MODEL_06ef06ae4ec24df5b15b300e0c7af830"
      }
     },
     "3db9f41f329746999b332fbd39a34d30": {
      "model_module": "@jupyter-widgets/controls",
      "model_module_version": "1.5.0",
      "model_name": "ButtonStyleModel",
      "state": {}
     },
     "3e2b8ab21c3649e49b52b820056bce1f": {
      "model_module": "@jupyter-widgets/base",
      "model_module_version": "1.2.0",
      "model_name": "LayoutModel",
      "state": {}
     },
     "3f45300582364d2587bd70f29f62b49e": {
      "model_module": "@jupyter-widgets/controls",
      "model_module_version": "1.5.0",
      "model_name": "DescriptionStyleModel",
      "state": {
       "description_width": "auto"
      }
     },
     "3ff0f2cd6395428d8f2a4318662f6e2d": {
      "model_module": "@jupyter-widgets/base",
      "model_module_version": "1.2.0",
      "model_name": "LayoutModel",
      "state": {}
     },
     "4074b9f326e54d38888a2008a8bb0f22": {
      "model_module": "@jupyter-widgets/controls",
      "model_module_version": "1.5.0",
      "model_name": "IntSliderModel",
      "state": {
       "continuous_update": false,
       "description": "num_of_task",
       "layout": "IPY_MODEL_106b2a2770c34e1785023edd71757b63",
       "max": 6,
       "min": 1,
       "style": "IPY_MODEL_89c26fef233e48d291d3eacb19c754df",
       "value": 4
      }
     },
     "40f8b4ec67ca439083e9ba7327f6eaab": {
      "model_module": "@jupyter-widgets/output",
      "model_module_version": "1.0.0",
      "model_name": "OutputModel",
      "state": {
       "layout": "IPY_MODEL_71b418048d474098ad4ea18c7abc3086",
       "outputs": [
        {
         "data": {
          "text/markdown": "# ✌️ Your Job is Here!",
          "text/plain": "<IPython.core.display.Markdown object>"
         },
         "metadata": {},
         "output_type": "display_data"
        },
        {
         "data": {
          "text/html": "<table>\n<thead>\n<tr><th style=\"text-align:left\">id             </th><th style=\"text-align:left\">slurmId  </th><th style=\"text-align:left\">hpc              </th><th style=\"text-align:left\">executableFolder  </th><th style=\"text-align:left\">dataFolder  </th><th style=\"text-align:left\">resultFolder                                                                                                                                                   </th><th style=\"text-align:left\">param  </th><th style=\"text-align:left\">slurm                                                                          </th><th style=\"text-align:left\">userId                                      </th><th style=\"text-align:left\">maintainer            </th><th style=\"text-align:left\">createdAt               </th></tr>\n</thead>\n<tbody>\n<tr><td style=\"text-align:left\">1658163317OGclc</td><td style=\"text-align:left\">         </td><td style=\"text-align:left\">keeling_community</td><td style=\"text-align:left\">git://covid-access</td><td style=\"text-align:left\">            </td><td style=\"text-align:left\">globus://418e684e-1260-11ec-ba7d-138ac5bdb19f:/~/data/cigi/cybergis-jupyter/production_data/notebook_home_data/alexandermichels/globus_download_1658163317OGclc</td><td style=\"text-align:left\">{}     </td><td style=\"text-align:left\">{&quot;time&quot;: &quot;20:00&quot;, &quot;num_of_task&quot;: 8, &quot;cpu_per_task&quot;: 1, &quot;memory_per_cpu&quot;: &quot;4GB&quot;}</td><td style=\"text-align:left\">alexandermichels@cybergisx.cigi.illinois.edu</td><td style=\"text-align:left\">community_contribution</td><td style=\"text-align:left\">2022-07-18T16:55:16.000Z</td></tr>\n</tbody>\n</table>",
          "text/plain": "<IPython.core.display.HTML object>"
         },
         "metadata": {},
         "output_type": "display_data"
        }
       ]
      }
     },
     "41ff2e34274a450db77c122205c596da": {
      "model_module": "@jupyter-widgets/controls",
      "model_module_version": "1.5.0",
      "model_name": "ButtonStyleModel",
      "state": {}
     },
     "432bb3387ae04b32b88ab459180811f1": {
      "model_module": "@jupyter-widgets/output",
      "model_module_version": "1.0.0",
      "model_name": "OutputModel",
      "state": {
       "layout": "IPY_MODEL_9cc612523cae483e97cb166dc1e11fb3"
      }
     },
     "46ec8244bd224bc2ad63da99c3cee7c9": {
      "model_module": "@jupyter-widgets/controls",
      "model_module_version": "1.5.0",
      "model_name": "SliderStyleModel",
      "state": {
       "description_width": "auto"
      }
     },
     "472987f872434fbbbb97710b7a2fdf7c": {
      "model_module": "@jupyter-widgets/base",
      "model_module_version": "1.2.0",
      "model_name": "LayoutModel",
      "state": {}
     },
     "48e9867f8c5a4b459718080a43489a49": {
      "model_module": "@jupyter-widgets/base",
      "model_module_version": "1.2.0",
      "model_name": "LayoutModel",
      "state": {}
     },
     "4b3cc34999794db1b5c688347dff178c": {
      "model_module": "@jupyter-widgets/controls",
      "model_module_version": "1.5.0",
      "model_name": "VBoxModel",
      "state": {
       "children": [
        "IPY_MODEL_cad5b6217a30416ca966ffd4e672cbb3",
        "IPY_MODEL_d553aa7a617140b1ac22e9c082d15878"
       ],
       "layout": "IPY_MODEL_78c55234fd6642c7a58f7f85db666fcc"
      }
     },
     "4dbd7b3e5fb1421c9855b2b99849aac9": {
      "model_module": "@jupyter-widgets/controls",
      "model_module_version": "1.5.0",
      "model_name": "SliderStyleModel",
      "state": {
       "description_width": "auto"
      }
     },
     "4e2ec47cbc814a28a958963fafa39d4b": {
      "model_module": "@jupyter-widgets/controls",
      "model_module_version": "1.5.0",
      "model_name": "VBoxModel",
      "state": {
       "children": [
        "IPY_MODEL_a5453bbcf9884db79cc280af75dca166",
        "IPY_MODEL_044a236693ab4aada1bbc1e682e48bdd"
       ],
       "layout": "IPY_MODEL_517377189ccd4b79a18448da5bab2045"
      }
     },
     "4ee3181c36f24f36a4dee227290b8a95": {
      "model_module": "@jupyter-widgets/controls",
      "model_module_version": "1.5.0",
      "model_name": "ButtonModel",
      "state": {
       "description": "🔁 Loading",
       "disabled": true,
       "layout": "IPY_MODEL_09b9aad490644b2a901aa2075121228d",
       "style": "IPY_MODEL_e5d34292cfbc48c7a75c9de4e4a59873"
      }
     },
     "4fd00886f50346d99e44356030dc995c": {
      "model_module": "@jupyter-widgets/base",
      "model_module_version": "1.2.0",
      "model_name": "LayoutModel",
      "state": {}
     },
     "500a9f5d9be9420284e3155a1cb25942": {
      "model_module": "@jupyter-widgets/base",
      "model_module_version": "1.2.0",
      "model_name": "LayoutModel",
      "state": {}
     },
     "500ef5add1924f8e98b4bc50d1e29960": {
      "model_module": "@jupyter-widgets/output",
      "model_module_version": "1.0.0",
      "model_name": "OutputModel",
      "state": {
       "layout": "IPY_MODEL_79cd781e789f428281bd9343ba837141",
       "outputs": [
        {
         "data": {
          "application/vnd.jupyter.widget-view+json": {
           "model_id": "97d5bc7d2d494c808f66de2d8c1214e3",
           "version_major": 2,
           "version_minor": 0
          },
          "text/plain": "Dropdown(description='📦 Job Templates:', index=3, layout=Layout(width='60%'), options=('wrfhydro-5.x', 'summa3…"
         },
         "metadata": {},
         "output_type": "display_data"
        }
       ]
      }
     },
     "517377189ccd4b79a18448da5bab2045": {
      "model_module": "@jupyter-widgets/base",
      "model_module_version": "1.2.0",
      "model_name": "LayoutModel",
      "state": {}
     },
     "52e876d47ff84e24aa42583c2b2baec2": {
      "model_module": "@jupyter-widgets/controls",
      "model_module_version": "1.5.0",
      "model_name": "ButtonStyleModel",
      "state": {}
     },
     "53b22f7474e64e85a2b5a465aac5421d": {
      "model_module": "@jupyter-widgets/base",
      "model_module_version": "1.2.0",
      "model_name": "LayoutModel",
      "state": {}
     },
     "5459a1272d114b10866a4a45fb69a11c": {
      "model_module": "@jupyter-widgets/controls",
      "model_module_version": "1.5.0",
      "model_name": "SliderStyleModel",
      "state": {
       "description_width": "auto"
      }
     },
     "5503f95dd0e14364809dc1ac28b7e6bd": {
      "model_module": "@jupyter-widgets/controls",
      "model_module_version": "1.5.0",
      "model_name": "DescriptionStyleModel",
      "state": {
       "description_width": "auto"
      }
     },
     "5533a6d428a240dab71afe883b0bc5c4": {
      "model_module": "@jupyter-widgets/base",
      "model_module_version": "1.2.0",
      "model_name": "LayoutModel",
      "state": {}
     },
     "5590a1be57294eab8a90fe256cc2a6fe": {
      "model_module": "@jupyter-widgets/controls",
      "model_module_version": "1.5.0",
      "model_name": "IntSliderModel",
      "state": {
       "continuous_update": false,
       "description": "time (Minutes)",
       "layout": "IPY_MODEL_106b2a2770c34e1785023edd71757b63",
       "max": 50,
       "min": 10,
       "style": "IPY_MODEL_db79c5e4b2d9464a80783ef53a6a873f",
       "value": 20
      }
     },
     "561867e7e89e47b3ba6808402e8bb8d0": {
      "model_module": "@jupyter-widgets/controls",
      "model_module_version": "1.5.0",
      "model_name": "ButtonModel",
      "state": {
       "description": "Restore",
       "layout": "IPY_MODEL_e34c0710ab214ad1b2d2c77cca75ec64",
       "style": "IPY_MODEL_d323db40ab8d429281d362f5f2e609d1"
      }
     },
     "56c66fab9f83428eb9f617e54479646b": {
      "model_module": "@jupyter-widgets/controls",
      "model_module_version": "1.5.0",
      "model_name": "IntSliderModel",
      "state": {
       "continuous_update": false,
       "description": "num_of_task",
       "layout": "IPY_MODEL_106b2a2770c34e1785023edd71757b63",
       "max": 6,
       "min": 1,
       "style": "IPY_MODEL_218919572545408684c5a146a0658ed3",
       "value": 4
      }
     },
     "56df9fd96462412d916530459f605c7f": {
      "model_module": "@jupyter-widgets/base",
      "model_module_version": "1.2.0",
      "model_name": "LayoutModel",
      "state": {}
     },
     "56ecd71ea558416ba8600f78e777bfd3": {
      "model_module": "@jupyter-widgets/base",
      "model_module_version": "1.2.0",
      "model_name": "LayoutModel",
      "state": {}
     },
     "5760d6962b174ed5bd932ff16c31b7be": {
      "model_module": "@jupyter-widgets/output",
      "model_module_version": "1.0.0",
      "model_name": "OutputModel",
      "state": {
       "layout": "IPY_MODEL_5533a6d428a240dab71afe883b0bc5c4"
      }
     },
     "5828265d0c26477d841ebcf05c20cc41": {
      "model_module": "@jupyter-widgets/base",
      "model_module_version": "1.2.0",
      "model_name": "LayoutModel",
      "state": {}
     },
     "582f07a28a384a1abdb090c7d7af4507": {
      "model_module": "@jupyter-widgets/base",
      "model_module_version": "1.2.0",
      "model_name": "LayoutModel",
      "state": {}
     },
     "5854a285b31c4e5dbe89938ead09b079": {
      "model_module": "@jupyter-widgets/controls",
      "model_module_version": "1.5.0",
      "model_name": "ButtonModel",
      "state": {
       "description": "Restore",
       "layout": "IPY_MODEL_3e2b8ab21c3649e49b52b820056bce1f",
       "style": "IPY_MODEL_b16f5f1258e9425db75d75a9ea86460b"
      }
     },
     "592092d096a441eaa448199cca8002e5": {
      "model_module": "@jupyter-widgets/base",
      "model_module_version": "1.2.0",
      "model_name": "LayoutModel",
      "state": {}
     },
     "59df92ca1db04d02bf0e77572dbbe580": {
      "model_module": "@jupyter-widgets/base",
      "model_module_version": "1.2.0",
      "model_name": "LayoutModel",
      "state": {}
     },
     "5a0dca1d88d74e6db2cc4b87579fccbc": {
      "model_module": "@jupyter-widgets/controls",
      "model_module_version": "1.5.0",
      "model_name": "ButtonModel",
      "state": {
       "description": "Load More",
       "layout": "IPY_MODEL_5fa7fd74df0941c2884a4abe21dd45fd",
       "style": "IPY_MODEL_733d029cdce14edfa3eb072449257c76"
      }
     },
     "5a80595afb8a4afbb95052f03f3c9708": {
      "model_module": "@jupyter-widgets/base",
      "model_module_version": "1.2.0",
      "model_name": "LayoutModel",
      "state": {}
     },
     "5cffb9ca014545e79aed52ad881f6a62": {
      "model_module": "@jupyter-widgets/controls",
      "model_module_version": "1.5.0",
      "model_name": "ButtonStyleModel",
      "state": {}
     },
     "5d50a7050b7c415fbcdd312076707b0a": {
      "model_module": "@jupyter-widgets/output",
      "model_module_version": "1.0.0",
      "model_name": "OutputModel",
      "state": {
       "layout": "IPY_MODEL_7e39c49e744c4ad38294bde17428388f",
       "outputs": [
        {
         "data": {
          "application/vnd.jupyter.widget-view+json": {
           "model_id": "5d7832f5bf8445e2abf61c7698fdd0a8",
           "version_major": 2,
           "version_minor": 0
          },
          "text/plain": "HBox(children=(Checkbox(value=False, description='receive email on job status? ', style=DescriptionStyle(descr…"
         },
         "metadata": {},
         "output_type": "display_data"
        }
       ]
      }
     },
     "5d7832f5bf8445e2abf61c7698fdd0a8": {
      "model_module": "@jupyter-widgets/controls",
      "model_module_version": "1.5.0",
      "model_name": "HBoxModel",
      "state": {
       "children": [
        "IPY_MODEL_b6c9ec921f984bd6bb10076498441016",
        "IPY_MODEL_2f6c2e08cd1a462ea7d361ef65f3bfef"
       ],
       "layout": "IPY_MODEL_7feddeeff259439d9414b15e7dc6509a"
      }
     },
     "5da9e95329214315997084c235fe298d": {
      "model_module": "@jupyter-widgets/base",
      "model_module_version": "1.2.0",
      "model_name": "LayoutModel",
      "state": {}
     },
     "5db14fbb295d4c849edcd95f0d990675": {
      "model_module": "@jupyter-widgets/base",
      "model_module_version": "1.2.0",
      "model_name": "LayoutModel",
      "state": {}
     },
     "5dbf9e95ed2440a5aadf6bb7f96041c3": {
      "model_module": "@jupyter-widgets/controls",
      "model_module_version": "1.5.0",
      "model_name": "ButtonModel",
      "state": {
       "description": "Load More",
       "layout": "IPY_MODEL_165f3d88b49b461c967d9da4c76ef6a7",
       "style": "IPY_MODEL_7b7a87c13f9f4a888d7d2c920ebf261e"
      }
     },
     "5e92161bc4d4493393b8099ca88dc349": {
      "model_module": "@jupyter-widgets/base",
      "model_module_version": "1.2.0",
      "model_name": "LayoutModel",
      "state": {}
     },
     "5fa7fd74df0941c2884a4abe21dd45fd": {
      "model_module": "@jupyter-widgets/base",
      "model_module_version": "1.2.0",
      "model_name": "LayoutModel",
      "state": {}
     },
     "60b8102bf45b4321a1d03aefdfcecadc": {
      "model_module": "@jupyter-widgets/base",
      "model_module_version": "1.2.0",
      "model_name": "LayoutModel",
      "state": {}
     },
     "60c4b3b0aca947d2b72a8ad2736f23e6": {
      "model_module": "@jupyter-widgets/controls",
      "model_module_version": "1.5.0",
      "model_name": "AccordionModel",
      "state": {
       "_titles": {
        "0": "Computing Resource"
       },
       "children": [
        "IPY_MODEL_226b160cd91f4421b26aec57d13825b8"
       ],
       "layout": "IPY_MODEL_cac0767c293c4e7e8a5c6c9275a2e29e",
       "selected_index": null
      }
     },
     "613cbf4f3a954b53a28c4ea645c521f0": {
      "model_module": "@jupyter-widgets/controls",
      "model_module_version": "1.5.0",
      "model_name": "AccordionModel",
      "state": {
       "_titles": {
        "0": "Computing Resource"
       },
       "children": [
        "IPY_MODEL_670d71c2e17045f7ab23598b26a38158"
       ],
       "layout": "IPY_MODEL_d57e039b60de498198bcf35449fd4b3a",
       "selected_index": null
      }
     },
     "6292f760a520460c8b2cf0826765fafa": {
      "model_module": "@jupyter-widgets/base",
      "model_module_version": "1.2.0",
      "model_name": "LayoutModel",
      "state": {}
     },
     "6465ebbe2aeb45e3ab3e761acb57def2": {
      "model_module": "@jupyter-widgets/controls",
      "model_module_version": "1.5.0",
      "model_name": "VBoxModel",
      "state": {
       "children": [
        "IPY_MODEL_bb7e25d212594b3dbec356dc8098de50",
        "IPY_MODEL_65fc666d8c4c4ebc9ad58c44171e3f34"
       ],
       "layout": "IPY_MODEL_9f705af958ed446fadc2b54433d4ca41"
      }
     },
     "654b89af093041c49143872d304e7540": {
      "model_module": "@jupyter-widgets/controls",
      "model_module_version": "1.5.0",
      "model_name": "ButtonModel",
      "state": {
       "description": "Restore",
       "layout": "IPY_MODEL_9513c07dff4c46b282abd91b3e6b1d73",
       "style": "IPY_MODEL_3db9f41f329746999b332fbd39a34d30"
      }
     },
     "65fc666d8c4c4ebc9ad58c44171e3f34": {
      "model_module": "@jupyter-widgets/controls",
      "model_module_version": "1.5.0",
      "model_name": "VBoxModel",
      "state": {
       "children": [
        "IPY_MODEL_56c66fab9f83428eb9f617e54479646b",
        "IPY_MODEL_a0b00415fe504d9680541ff3ccbd93af"
       ],
       "layout": "IPY_MODEL_738ada6eee994b21856813a780ec792a"
      }
     },
     "66998d0815f2458e825a28f13e25ec1d": {
      "model_module": "@jupyter-widgets/controls",
      "model_module_version": "1.5.0",
      "model_name": "ButtonStyleModel",
      "state": {}
     },
     "66a47151c6bb4e69ba2e29e1bb7e154b": {
      "model_module": "@jupyter-widgets/controls",
      "model_module_version": "1.5.0",
      "model_name": "ButtonModel",
      "state": {
       "description": "Download",
       "layout": "IPY_MODEL_d974ed372a944c638422861263ad10e5",
       "style": "IPY_MODEL_7532aba7ecac400aae2f47a0330b9371"
      }
     },
     "670d71c2e17045f7ab23598b26a38158": {
      "model_module": "@jupyter-widgets/controls",
      "model_module_version": "1.5.0",
      "model_name": "DropdownModel",
      "state": {
       "_options_labels": [
        "keeling_community"
       ],
       "description": "🖥 Computing Recourse:",
       "index": 0,
       "layout": "IPY_MODEL_106b2a2770c34e1785023edd71757b63",
       "style": "IPY_MODEL_869f7d439b994b7c99708f2550947520"
      }
     },
     "67748f3113474199b9f4676c8ab9cf9e": {
      "model_module": "@jupyter-widgets/base",
      "model_module_version": "1.2.0",
      "model_name": "LayoutModel",
      "state": {}
     },
     "6ac57afc012c4fbc9d778d68867d71b6": {
      "model_module": "@jupyter-widgets/output",
      "model_module_version": "1.0.0",
      "model_name": "OutputModel",
      "state": {
       "layout": "IPY_MODEL_23c7844befbc42ac9de83510ede4cf19",
       "outputs": [
        {
         "name": "stdout",
         "output_type": "stream",
         "text": "\u001b[H\u001b[2J📮 Job ID: 1658163317OGclc\n🤖 Slurm ID: 856641\n"
        },
        {
         "data": {
          "text/html": "<table>\n<thead>\n<tr><th>message  </th><th>time                    </th></tr>\n</thead>\n<tbody>\n<tr><td style='text-align:left'>/job/result\n/job/result\n/job/result\n/job/result\n/job/result\n/job/result\n/job/result\n/job/result\nRemoved 108 nodes (0.0038%) from the OSMNX network\nNumber of nodes: 28433\nRemoved 108 nodes (0.0038%) from the OSMNX network\nNumber of nodes: 28433\nNumber of edges: 75895\nNumber of edges: 75895\nRemoved 108 nodes (0.0038%) from the OSMNX network\nNumber of nodes: 28433\nNumber of edges: 75895\nRemoved 108 nodes (0.0038%) from the OSMNX network\nNumber of nodes: 28433\nRemoved 108 nodes (0.0038%) from the OS...[download for full log]          </td><td style='text-align:left'>2022-07-18T17:08:04.000Z</td></tr>\n<tr><td style='text-align:left'>ModuleCmd_Use.c(231):ERROR:64: Directory &#x27;gnu/openmpi-4.1.2-gnu-4.8.5&#x27; not found\n\r  0%|          | 0/75895 [00:00&lt;?, ?it/s]\r  0%|          | 0/75895 [00:00&lt;?, ?it/s]\r 72%|███████▏  | 54358/75895 [00:00&lt;00:00, 543577.93it/s]\r 71%|███████   | 53701/75895 [00:00&lt;00:00, 537009.23it/s]\r100%|██████████| 75895/75895 [00:00&lt;00:00, 549867.77it/s]\r100%|██████████| 75895/75895 [00:00&lt;00:00, 547979.38it/s]\n\rPop Centroid File Setting:   0%|          | 0/878 [00:00&lt;?, ?it/s]\n\rPop Centroid File Setting:   0%| ...[download for full log]          </td><td style='text-align:left'>2022-07-18T17:08:04.000Z</td></tr>\n</tbody>\n</table>",
          "text/plain": "<IPython.core.display.HTML object>"
         },
         "metadata": {},
         "output_type": "display_data"
        },
        {
         "data": {
          "text/markdown": "***",
          "text/plain": "<IPython.core.display.Markdown object>"
         },
         "metadata": {},
         "output_type": "display_data"
        },
        {
         "data": {
          "text/markdown": "## ✅ your job completed",
          "text/plain": "<IPython.core.display.Markdown object>"
         },
         "metadata": {},
         "output_type": "display_data"
        }
       ]
      }
     },
     "6e65662743dd4239b297d1b9ffbac3f9": {
      "model_module": "@jupyter-widgets/controls",
      "model_module_version": "1.5.0",
      "model_name": "DescriptionStyleModel",
      "state": {
       "description_width": "auto"
      }
     },
     "713dfb5937fb4b25acc306a3ea78206a": {
      "model_module": "@jupyter-widgets/base",
      "model_module_version": "1.2.0",
      "model_name": "LayoutModel",
      "state": {}
     },
     "71b418048d474098ad4ea18c7abc3086": {
      "model_module": "@jupyter-widgets/base",
      "model_module_version": "1.2.0",
      "model_name": "LayoutModel",
      "state": {}
     },
     "71d849a25e1145cabb815e2405b8de14": {
      "model_module": "@jupyter-widgets/base",
      "model_module_version": "1.2.0",
      "model_name": "LayoutModel",
      "state": {}
     },
     "7296fd9be744465ea102268c35509ff2": {
      "model_module": "@jupyter-widgets/controls",
      "model_module_version": "1.5.0",
      "model_name": "SliderStyleModel",
      "state": {
       "description_width": "auto"
      }
     },
     "72bf913825044ccb81828ad338326d84": {
      "model_module": "@jupyter-widgets/controls",
      "model_module_version": "1.5.0",
      "model_name": "DescriptionStyleModel",
      "state": {
       "description_width": ""
      }
     },
     "733d029cdce14edfa3eb072449257c76": {
      "model_module": "@jupyter-widgets/controls",
      "model_module_version": "1.5.0",
      "model_name": "ButtonStyleModel",
      "state": {}
     },
     "736a368ba9ec4a0e83e1167da0458ec6": {
      "model_module": "@jupyter-widgets/controls",
      "model_module_version": "1.5.0",
      "model_name": "SliderStyleModel",
      "state": {
       "description_width": "auto"
      }
     },
     "738ada6eee994b21856813a780ec792a": {
      "model_module": "@jupyter-widgets/base",
      "model_module_version": "1.2.0",
      "model_name": "LayoutModel",
      "state": {}
     },
     "73e4455fe4a1439888af72980e4259f2": {
      "model_module": "@jupyter-widgets/base",
      "model_module_version": "1.2.0",
      "model_name": "LayoutModel",
      "state": {}
     },
     "741e157d1d554c9a96cda535ddee8702": {
      "model_module": "@jupyter-widgets/controls",
      "model_module_version": "1.5.0",
      "model_name": "ButtonStyleModel",
      "state": {}
     },
     "747815329c2741e7b1bc599ef0678fd1": {
      "model_module": "@jupyter-widgets/output",
      "model_module_version": "1.0.0",
      "model_name": "OutputModel",
      "state": {
       "layout": "IPY_MODEL_31474e3f1a7e4fe9a856a987353e49cd"
      }
     },
     "7532aba7ecac400aae2f47a0330b9371": {
      "model_module": "@jupyter-widgets/controls",
      "model_module_version": "1.5.0",
      "model_name": "ButtonStyleModel",
      "state": {}
     },
     "764ba9f4c543498f96cd747c3c5baf87": {
      "model_module": "@jupyter-widgets/base",
      "model_module_version": "1.2.0",
      "model_name": "LayoutModel",
      "state": {}
     },
     "78c55234fd6642c7a58f7f85db666fcc": {
      "model_module": "@jupyter-widgets/base",
      "model_module_version": "1.2.0",
      "model_name": "LayoutModel",
      "state": {}
     },
     "79cd781e789f428281bd9343ba837141": {
      "model_module": "@jupyter-widgets/base",
      "model_module_version": "1.2.0",
      "model_name": "LayoutModel",
      "state": {}
     },
     "7b7a87c13f9f4a888d7d2c920ebf261e": {
      "model_module": "@jupyter-widgets/controls",
      "model_module_version": "1.5.0",
      "model_name": "ButtonStyleModel",
      "state": {}
     },
     "7c95b66b06c54cb1adc7ca6cf36f957e": {
      "model_module": "@jupyter-widgets/controls",
      "model_module_version": "1.5.0",
      "model_name": "AccordionModel",
      "state": {
       "_titles": {
        "0": "Slurm Computing Configurations"
       },
       "children": [
        "IPY_MODEL_c7c6701788bd49ab8ad9509671fd6382"
       ],
       "layout": "IPY_MODEL_3683ca06743a496c9e036336c6e69c93",
       "selected_index": null
      }
     },
     "7cec2649b1b04ec3a60f590addce4621": {
      "model_module": "@jupyter-widgets/controls",
      "model_module_version": "1.5.0",
      "model_name": "VBoxModel",
      "state": {
       "children": [
        "IPY_MODEL_9d41caa690a042e6b7d8e14866e92fad",
        "IPY_MODEL_846dc9588c0f42d6a3f314b4e6d75dd5",
        "IPY_MODEL_d89d7bb9145d4746b1e041368bcad178"
       ],
       "layout": "IPY_MODEL_713dfb5937fb4b25acc306a3ea78206a"
      }
     },
     "7e39c49e744c4ad38294bde17428388f": {
      "model_module": "@jupyter-widgets/base",
      "model_module_version": "1.2.0",
      "model_name": "LayoutModel",
      "state": {}
     },
     "7f4c4245a4a0400eacbfb7b32149f67a": {
      "model_module": "@jupyter-widgets/base",
      "model_module_version": "1.2.0",
      "model_name": "LayoutModel",
      "state": {}
     },
     "7f5ff78657014b38bfe4bbf6a41566ef": {
      "model_module": "@jupyter-widgets/controls",
      "model_module_version": "1.5.0",
      "model_name": "AccordionModel",
      "state": {
       "_titles": {
        "0": "Slurm Computing Configurations"
       },
       "children": [
        "IPY_MODEL_b2b3e89b500e467796925c336c9af7e4"
       ],
       "layout": "IPY_MODEL_ce04f7c19cb548be961a86a182d2eb35",
       "selected_index": null
      }
     },
     "7feddeeff259439d9414b15e7dc6509a": {
      "model_module": "@jupyter-widgets/base",
      "model_module_version": "1.2.0",
      "model_name": "LayoutModel",
      "state": {}
     },
     "823230b1bd2940cdb6bd5f46a57e4b25": {
      "model_module": "@jupyter-widgets/base",
      "model_module_version": "1.2.0",
      "model_name": "LayoutModel",
      "state": {}
     },
     "839f90695561421d9cfd152175e951b7": {
      "model_module": "@jupyter-widgets/controls",
      "model_module_version": "1.5.0",
      "model_name": "IntSliderModel",
      "state": {
       "continuous_update": false,
       "description": "time (Minutes)",
       "layout": "IPY_MODEL_106b2a2770c34e1785023edd71757b63",
       "max": 60,
       "min": 15,
       "style": "IPY_MODEL_ebfbd50d61954dd78aea9c63fdbf919a",
       "value": 20
      }
     },
     "83c180a70ef74dedb7b39b364e903f09": {
      "model_module": "@jupyter-widgets/controls",
      "model_module_version": "1.5.0",
      "model_name": "ButtonStyleModel",
      "state": {}
     },
     "846dc9588c0f42d6a3f314b4e6d75dd5": {
      "model_module": "@jupyter-widgets/controls",
      "model_module_version": "1.5.0",
      "model_name": "IntSliderModel",
      "state": {
       "continuous_update": false,
       "description": "time (Minutes)",
       "layout": "IPY_MODEL_106b2a2770c34e1785023edd71757b63",
       "max": 60,
       "min": 15,
       "style": "IPY_MODEL_18f9984ecc5644118694997be4043582",
       "value": 20
      }
     },
     "84745bc71c594ae9beac557bf19c8a30": {
      "model_module": "@jupyter-widgets/controls",
      "model_module_version": "1.5.0",
      "model_name": "DropdownModel",
      "state": {
       "_options_labels": [
        "foo",
        "bar"
       ],
       "description": "input_b",
       "index": 0,
       "layout": "IPY_MODEL_0d7fa44180cc4ad7bea49056e160b7b8",
       "style": "IPY_MODEL_c7de6ce6f76845d8bc420fe9bf83ab52"
      }
     },
     "8580d2e148f24e9094f4a5e683b5a0db": {
      "model_module": "@jupyter-widgets/controls",
      "model_module_version": "1.5.0",
      "model_name": "ButtonModel",
      "state": {
       "description": "Restore",
       "layout": "IPY_MODEL_ddb04cb50caa40ec9eb0887bb64838b3",
       "style": "IPY_MODEL_a490643471904995a31d24a8fe001c6f"
      }
     },
     "85da2bbf6325468389d77c789fa5a601": {
      "model_module": "@jupyter-widgets/controls",
      "model_module_version": "1.5.0",
      "model_name": "VBoxModel",
      "state": {
       "children": [
        "IPY_MODEL_e046677ffd4946149ca518334a5abd58",
        "IPY_MODEL_84745bc71c594ae9beac557bf19c8a30"
       ],
       "layout": "IPY_MODEL_59df92ca1db04d02bf0e77572dbbe580"
      }
     },
     "869f7d439b994b7c99708f2550947520": {
      "model_module": "@jupyter-widgets/controls",
      "model_module_version": "1.5.0",
      "model_name": "DescriptionStyleModel",
      "state": {
       "description_width": "auto"
      }
     },
     "89a0fdd8f8d14df59611b7ffac66d868": {
      "model_module": "@jupyter-widgets/controls",
      "model_module_version": "1.5.0",
      "model_name": "ButtonStyleModel",
      "state": {}
     },
     "89c26fef233e48d291d3eacb19c754df": {
      "model_module": "@jupyter-widgets/controls",
      "model_module_version": "1.5.0",
      "model_name": "SliderStyleModel",
      "state": {
       "description_width": "auto"
      }
     },
     "8a9cc196ba614bb588fd880c21d048d7": {
      "model_module": "@jupyter-widgets/base",
      "model_module_version": "1.2.0",
      "model_name": "LayoutModel",
      "state": {}
     },
     "8b479e8079eb4403aa906335e80adb03": {
      "model_module": "@jupyter-widgets/base",
      "model_module_version": "1.2.0",
      "model_name": "LayoutModel",
      "state": {}
     },
     "8c42749352994e2c9f103d91bc736641": {
      "model_module": "@jupyter-widgets/base",
      "model_module_version": "1.2.0",
      "model_name": "LayoutModel",
      "state": {}
     },
     "8d1c5220c8eb4fb8a43eac0c651d5afb": {
      "model_module": "@jupyter-widgets/output",
      "model_module_version": "1.0.0",
      "model_name": "OutputModel",
      "state": {
       "layout": "IPY_MODEL_7f4c4245a4a0400eacbfb7b32149f67a",
       "outputs": [
        {
         "data": {
          "application/vnd.jupyter.widget-view+json": {
           "model_id": "5760d6962b174ed5bd932ff16c31b7be",
           "version_major": 2,
           "version_minor": 0
          },
          "text/plain": "Output()"
         },
         "metadata": {},
         "output_type": "display_data"
        },
        {
         "data": {
          "application/vnd.jupyter.widget-view+json": {
           "model_id": "a8fa561c50aa4c40af3b41bbb81e2333",
           "version_major": 2,
           "version_minor": 0
          },
          "text/plain": "Button(description='Job Submitted ✅', disabled=True, style=ButtonStyle())"
         },
         "metadata": {},
         "output_type": "display_data"
        }
       ]
      }
     },
     "8d5fe590d3f142699a572c45ecbf1df8": {
      "model_module": "@jupyter-widgets/output",
      "model_module_version": "1.0.0",
      "model_name": "OutputModel",
      "state": {
       "layout": "IPY_MODEL_234eb1c9484f4c9ba5dfa971a51be186",
       "outputs": [
        {
         "data": {
          "application/vnd.jupyter.widget-view+json": {
           "model_id": "7c95b66b06c54cb1adc7ca6cf36f957e",
           "version_major": 2,
           "version_minor": 0
          },
          "text/plain": "Accordion(children=(VBox(children=(Label(value='All configs are optional. Please refer to Slurm official docum…"
         },
         "metadata": {},
         "output_type": "display_data"
        }
       ]
      }
     },
     "8ffea6384a5c48499ca7d0c165fdf789": {
      "model_module": "@jupyter-widgets/base",
      "model_module_version": "1.2.0",
      "model_name": "LayoutModel",
      "state": {}
     },
     "90bccf3767b94e4ea7a0db9914dc5642": {
      "model_module": "@jupyter-widgets/base",
      "model_module_version": "1.2.0",
      "model_name": "LayoutModel",
      "state": {}
     },
     "9290aa0422d04b239e0f85b26de97d30": {
      "model_module": "@jupyter-widgets/output",
      "model_module_version": "1.0.0",
      "model_name": "OutputModel",
      "state": {
       "layout": "IPY_MODEL_5e92161bc4d4493393b8099ca88dc349"
      }
     },
     "93d99227a54d41abb98e1c2df1bd6945": {
      "model_module": "@jupyter-widgets/base",
      "model_module_version": "1.2.0",
      "model_name": "LayoutModel",
      "state": {}
     },
     "94495c2043af4fae94d1daf1952b2c06": {
      "model_module": "@jupyter-widgets/controls",
      "model_module_version": "1.5.0",
      "model_name": "IntSliderModel",
      "state": {
       "continuous_update": false,
       "description": "memory_per_cpu (GB)",
       "layout": "IPY_MODEL_106b2a2770c34e1785023edd71757b63",
       "max": 4,
       "min": 4,
       "style": "IPY_MODEL_2380a65175fe4944bd96f1b629297e71",
       "value": 4
      }
     },
     "9513c07dff4c46b282abd91b3e6b1d73": {
      "model_module": "@jupyter-widgets/base",
      "model_module_version": "1.2.0",
      "model_name": "LayoutModel",
      "state": {}
     },
     "97d5bc7d2d494c808f66de2d8c1214e3": {
      "model_module": "@jupyter-widgets/controls",
      "model_module_version": "1.5.0",
      "model_name": "DropdownModel",
      "state": {
       "_options_labels": [
        "wrfhydro-5.x",
        "summa3",
        "pysal-access",
        "hello_world",
        "data_fusion",
        "covid-access"
       ],
       "description": "📦 Job Templates:",
       "index": 5,
       "layout": "IPY_MODEL_106b2a2770c34e1785023edd71757b63",
       "style": "IPY_MODEL_3b0e48651ad847e4b6518f807d00e234"
      }
     },
     "98051d76fc9846b1ac336e952c36fb95": {
      "model_module": "@jupyter-widgets/output",
      "model_module_version": "1.0.0",
      "model_name": "OutputModel",
      "state": {
       "layout": "IPY_MODEL_ab2deda922a7466b9896433011782361",
       "outputs": [
        {
         "data": {
          "application/vnd.jupyter.widget-view+json": {
           "model_id": "d6a648a188aa4e30b3b809bf3dd5b67e",
           "version_major": 2,
           "version_minor": 0
          },
          "text/plain": "Output()"
         },
         "metadata": {},
         "output_type": "display_data"
        },
        {
         "data": {
          "application/vnd.jupyter.widget-view+json": {
           "model_id": "f1cf63d7fad14fa1beceb84a5eb78880",
           "version_major": 2,
           "version_minor": 0
          },
          "text/plain": "Output()"
         },
         "metadata": {},
         "output_type": "display_data"
        }
       ]
      }
     },
     "9956f549bb754b8dab3cbe569a25e713": {
      "model_module": "@jupyter-widgets/controls",
      "model_module_version": "1.5.0",
      "model_name": "AccordionModel",
      "state": {
       "_titles": {
        "0": "Computing Resource"
       },
       "children": [
        "IPY_MODEL_e3b67643f0ad45629ca68f4617fbf9ca"
       ],
       "layout": "IPY_MODEL_e0acbdf296064cfd876d741737cfdeab",
       "selected_index": null
      }
     },
     "9a0da4acdefb43459aacbe4c9b348b02": {
      "model_module": "@jupyter-widgets/controls",
      "model_module_version": "1.5.0",
      "model_name": "ButtonModel",
      "state": {
       "description": "Restore",
       "layout": "IPY_MODEL_60b8102bf45b4321a1d03aefdfcecadc",
       "style": "IPY_MODEL_a6f151ab1f684129a67509b4aa07e5f6"
      }
     },
     "9a676620a99e422fb90acda7498afd3e": {
      "model_module": "@jupyter-widgets/controls",
      "model_module_version": "1.5.0",
      "model_name": "DescriptionStyleModel",
      "state": {
       "description_width": "auto"
      }
     },
     "9c4abcfb65564053a5010b0a2af2dfbb": {
      "model_module": "@jupyter-widgets/output",
      "model_module_version": "1.0.0",
      "model_name": "OutputModel",
      "state": {
       "layout": "IPY_MODEL_b1109ffcdc1e4eb5827ce210787b6f5a",
       "outputs": [
        {
         "data": {
          "application/vnd.jupyter.widget-view+json": {
           "model_id": "aa13b58a7f704efc8c53304b36cac45e",
           "version_major": 2,
           "version_minor": 0
          },
          "text/plain": "Output()"
         },
         "metadata": {},
         "output_type": "display_data"
        }
       ]
      }
     },
     "9cc612523cae483e97cb166dc1e11fb3": {
      "model_module": "@jupyter-widgets/base",
      "model_module_version": "1.2.0",
      "model_name": "LayoutModel",
      "state": {}
     },
     "9d41caa690a042e6b7d8e14866e92fad": {
      "model_module": "@jupyter-widgets/controls",
      "model_module_version": "1.5.0",
      "model_name": "IntSliderModel",
      "state": {
       "continuous_update": false,
       "description": "num_of_task",
       "layout": "IPY_MODEL_106b2a2770c34e1785023edd71757b63",
       "max": 8,
       "min": 8,
       "style": "IPY_MODEL_e7cea5228541461795988f665dd7aa26",
       "value": 8
      }
     },
     "9f607c69138040ee902c5587bf341046": {
      "model_module": "@jupyter-widgets/controls",
      "model_module_version": "1.5.0",
      "model_name": "ButtonModel",
      "state": {
       "description": "Restore",
       "layout": "IPY_MODEL_90bccf3767b94e4ea7a0db9914dc5642",
       "style": "IPY_MODEL_741e157d1d554c9a96cda535ddee8702"
      }
     },
     "9f705af958ed446fadc2b54433d4ca41": {
      "model_module": "@jupyter-widgets/base",
      "model_module_version": "1.2.0",
      "model_name": "LayoutModel",
      "state": {}
     },
     "a0b00415fe504d9680541ff3ccbd93af": {
      "model_module": "@jupyter-widgets/controls",
      "model_module_version": "1.5.0",
      "model_name": "IntSliderModel",
      "state": {
       "continuous_update": false,
       "description": "time (Minutes)",
       "layout": "IPY_MODEL_106b2a2770c34e1785023edd71757b63",
       "max": 50,
       "min": 10,
       "style": "IPY_MODEL_0960857b8c5b439aa31988fd9089cd90",
       "value": 20
      }
     },
     "a0dc622b4fa340f48e5c8302888a0cf2": {
      "model_module": "@jupyter-widgets/controls",
      "model_module_version": "1.5.0",
      "model_name": "DropdownModel",
      "state": {
       "_options_labels": [
        "foo",
        "bar"
       ],
       "description": "input_b",
       "index": 0,
       "layout": "IPY_MODEL_48e9867f8c5a4b459718080a43489a49",
       "style": "IPY_MODEL_9a676620a99e422fb90acda7498afd3e"
      }
     },
     "a1571d0f3c2b43e28ea961602771affa": {
      "model_module": "@jupyter-widgets/controls",
      "model_module_version": "1.5.0",
      "model_name": "DropdownModel",
      "state": {
       "_options_labels": [
        "keeling_community"
       ],
       "description": "🖥 Computing Recourse:",
       "index": 0,
       "layout": "IPY_MODEL_106b2a2770c34e1785023edd71757b63",
       "style": "IPY_MODEL_de3353189f7d488fb560ae2d265e1f5c"
      }
     },
     "a18169902c9544e1ae22e86a12fe9691": {
      "model_module": "@jupyter-widgets/base",
      "model_module_version": "1.2.0",
      "model_name": "LayoutModel",
      "state": {}
     },
     "a2d1a463364d432db111d37d5056b2fe": {
      "model_module": "@jupyter-widgets/controls",
      "model_module_version": "1.5.0",
      "model_name": "DescriptionStyleModel",
      "state": {
       "description_width": "auto"
      }
     },
     "a466ed98bccf47028c54fa6eaeb99b02": {
      "model_module": "@jupyter-widgets/controls",
      "model_module_version": "1.5.0",
      "model_name": "ButtonModel",
      "state": {
       "description": "Submit Job",
       "layout": "IPY_MODEL_56ecd71ea558416ba8600f78e777bfd3",
       "style": "IPY_MODEL_f0c2ee59146a40ab98e58297bce45458"
      }
     },
     "a490643471904995a31d24a8fe001c6f": {
      "model_module": "@jupyter-widgets/controls",
      "model_module_version": "1.5.0",
      "model_name": "ButtonStyleModel",
      "state": {}
     },
     "a53618e7037241218726af4af0d9bed1": {
      "model_module": "@jupyter-widgets/controls",
      "model_module_version": "1.5.0",
      "model_name": "ButtonModel",
      "state": {
       "description": "Restore",
       "layout": "IPY_MODEL_4fd00886f50346d99e44356030dc995c",
       "style": "IPY_MODEL_5cffb9ca014545e79aed52ad881f6a62"
      }
     },
     "a5453bbcf9884db79cc280af75dca166": {
      "model_module": "@jupyter-widgets/controls",
      "model_module_version": "1.5.0",
      "model_name": "IntSliderModel",
      "state": {
       "continuous_update": false,
       "description": "num_of_task",
       "layout": "IPY_MODEL_106b2a2770c34e1785023edd71757b63",
       "max": 6,
       "min": 1,
       "style": "IPY_MODEL_ae5a2802d6784bd6a7a2bb2ecb42f24c",
       "value": 4
      }
     },
     "a6f151ab1f684129a67509b4aa07e5f6": {
      "model_module": "@jupyter-widgets/controls",
      "model_module_version": "1.5.0",
      "model_name": "ButtonStyleModel",
      "state": {}
     },
     "a8fa561c50aa4c40af3b41bbb81e2333": {
      "model_module": "@jupyter-widgets/controls",
      "model_module_version": "1.5.0",
      "model_name": "ButtonModel",
      "state": {
       "description": "Job Submitted ✅",
       "disabled": true,
       "layout": "IPY_MODEL_238534c1e0e94424a9de10f6e1ee7d04",
       "style": "IPY_MODEL_1544c3c05e2d4efc8722c8c3e0f71555"
      }
     },
     "aa13b58a7f704efc8c53304b36cac45e": {
      "model_module": "@jupyter-widgets/output",
      "model_module_version": "1.0.0",
      "model_name": "OutputModel",
      "state": {
       "layout": "IPY_MODEL_de1ae2a4115a48c2a830933879e2b520",
       "outputs": [
        {
         "data": {
          "text/markdown": "# ☁️ Download Job Output Files",
          "text/plain": "<IPython.core.display.Markdown object>"
         },
         "metadata": {},
         "output_type": "display_data"
        },
        {
         "data": {
          "application/vnd.jupyter.widget-view+json": {
           "model_id": "9290aa0422d04b239e0f85b26de97d30",
           "version_major": 2,
           "version_minor": 0
          },
          "text/plain": "Output()"
         },
         "metadata": {},
         "output_type": "display_data"
        },
        {
         "data": {
          "application/vnd.jupyter.widget-view+json": {
           "model_id": "2c7b434449e743f9b3b557aaed03416c",
           "version_major": 2,
           "version_minor": 0
          },
          "text/plain": "Output()"
         },
         "metadata": {},
         "output_type": "display_data"
        },
        {
         "data": {
          "application/vnd.jupyter.widget-view+json": {
           "model_id": "da4eb4322e6c4849817129a4042e0bc8",
           "version_major": 2,
           "version_minor": 0
          },
          "text/plain": "Dropdown(description='select file/folder', options=('/', '/slurm_log'), value='/')"
         },
         "metadata": {},
         "output_type": "display_data"
        },
        {
         "data": {
          "application/vnd.jupyter.widget-view+json": {
           "model_id": "66a47151c6bb4e69ba2e29e1bb7e154b",
           "version_major": 2,
           "version_minor": 0
          },
          "text/plain": "Button(description='Download', style=ButtonStyle())"
         },
         "metadata": {},
         "output_type": "display_data"
        }
       ]
      }
     },
     "aa78582a03f843c6a79454dd8e97b115": {
      "model_module": "@jupyter-widgets/controls",
      "model_module_version": "1.5.0",
      "model_name": "IntSliderModel",
      "state": {
       "continuous_update": false,
       "description": "num_of_task",
       "layout": "IPY_MODEL_106b2a2770c34e1785023edd71757b63",
       "max": 8,
       "min": 8,
       "style": "IPY_MODEL_46ec8244bd224bc2ad63da99c3cee7c9",
       "value": 8
      }
     },
     "aae5b351aa3f4e4f9c8be548110b5013": {
      "model_module": "@jupyter-widgets/controls",
      "model_module_version": "1.5.0",
      "model_name": "IntSliderModel",
      "state": {
       "continuous_update": false,
       "description": "time (Minutes)",
       "layout": "IPY_MODEL_106b2a2770c34e1785023edd71757b63",
       "max": 60,
       "min": 15,
       "style": "IPY_MODEL_12d52549b64646f3a28b2ea38d9306a4",
       "value": 20
      }
     },
     "ab2deda922a7466b9896433011782361": {
      "model_module": "@jupyter-widgets/base",
      "model_module_version": "1.2.0",
      "model_name": "LayoutModel",
      "state": {}
     },
     "ab630f230580456997340ae0210c9560": {
      "model_module": "@jupyter-widgets/controls",
      "model_module_version": "1.5.0",
      "model_name": "DropdownModel",
      "state": {
       "_options_labels": [
        "keeling_community"
       ],
       "description": "🖥 Computing Recourse:",
       "index": 0,
       "layout": "IPY_MODEL_106b2a2770c34e1785023edd71757b63",
       "style": "IPY_MODEL_6e65662743dd4239b297d1b9ffbac3f9"
      }
     },
     "acb35c50f1834dcaaee5945b14651a6e": {
      "model_module": "@jupyter-widgets/controls",
      "model_module_version": "1.5.0",
      "model_name": "IntSliderModel",
      "state": {
       "continuous_update": false,
       "description": "num_of_task",
       "layout": "IPY_MODEL_106b2a2770c34e1785023edd71757b63",
       "max": 8,
       "min": 8,
       "style": "IPY_MODEL_736a368ba9ec4a0e83e1167da0458ec6",
       "value": 8
      }
     },
     "ae08548ab2574eb09fbd1960ba2c98ab": {
      "model_module": "@jupyter-widgets/controls",
      "model_module_version": "1.5.0",
      "model_name": "ButtonStyleModel",
      "state": {}
     },
     "ae5a2802d6784bd6a7a2bb2ecb42f24c": {
      "model_module": "@jupyter-widgets/controls",
      "model_module_version": "1.5.0",
      "model_name": "SliderStyleModel",
      "state": {
       "description_width": "auto"
      }
     },
     "b04a4189512f41c29b970e14d115fd3f": {
      "model_module": "@jupyter-widgets/controls",
      "model_module_version": "1.5.0",
      "model_name": "ButtonModel",
      "state": {
       "description": "Restore",
       "layout": "IPY_MODEL_0cef50320ccf45db9cf30c5321de30c2",
       "style": "IPY_MODEL_83c180a70ef74dedb7b39b364e903f09"
      }
     },
     "b1109ffcdc1e4eb5827ce210787b6f5a": {
      "model_module": "@jupyter-widgets/base",
      "model_module_version": "1.2.0",
      "model_name": "LayoutModel",
      "state": {}
     },
     "b16f5f1258e9425db75d75a9ea86460b": {
      "model_module": "@jupyter-widgets/controls",
      "model_module_version": "1.5.0",
      "model_name": "ButtonStyleModel",
      "state": {}
     },
     "b2b3e89b500e467796925c336c9af7e4": {
      "model_module": "@jupyter-widgets/controls",
      "model_module_version": "1.5.0",
      "model_name": "VBoxModel",
      "state": {
       "children": [
        "IPY_MODEL_c3bd9761f0d74f5aa5b707f2ba9e8783",
        "IPY_MODEL_f54f90e86fe64464a33fae5c0aa39beb"
       ],
       "layout": "IPY_MODEL_500a9f5d9be9420284e3155a1cb25942"
      }
     },
     "b2e236bd09424caa86eb88e9e2df4927": {
      "model_module": "@jupyter-widgets/controls",
      "model_module_version": "1.5.0",
      "model_name": "ButtonModel",
      "state": {
       "description": "Restore",
       "layout": "IPY_MODEL_472987f872434fbbbb97710b7a2fdf7c",
       "style": "IPY_MODEL_66998d0815f2458e825a28f13e25ec1d"
      }
     },
     "b449a3f6702042ce9980b527a33250e6": {
      "model_module": "@jupyter-widgets/base",
      "model_module_version": "1.2.0",
      "model_name": "LayoutModel",
      "state": {}
     },
     "b4bee10023004ba9806bf16bf74820e1": {
      "model_module": "@jupyter-widgets/controls",
      "model_module_version": "1.5.0",
      "model_name": "AccordionModel",
      "state": {
       "_titles": {
        "0": "Computing Resource"
       },
       "children": [
        "IPY_MODEL_a1571d0f3c2b43e28ea961602771affa"
       ],
       "layout": "IPY_MODEL_e5e83b5dac0049ff9e147174c7eebe78",
       "selected_index": null
      }
     },
     "b53c4d4b1d504e83a37069269fd4c503": {
      "model_module": "@jupyter-widgets/controls",
      "model_module_version": "1.5.0",
      "model_name": "LabelModel",
      "state": {
       "layout": "IPY_MODEL_115aa8ba40a442c58cc62fd87099e6f4",
       "style": "IPY_MODEL_72bf913825044ccb81828ad338326d84",
       "value": "All configs are optional. Please refer to Slurm official documentation at 🔗 https://slurm.schedmd.com/sbatch.html"
      }
     },
     "b6c9ec921f984bd6bb10076498441016": {
      "model_module": "@jupyter-widgets/controls",
      "model_module_version": "1.5.0",
      "model_name": "CheckboxModel",
      "state": {
       "description": "receive email on job status? ",
       "disabled": false,
       "layout": "IPY_MODEL_cc3b0b88c4ef4970b64beef35858486e",
       "style": "IPY_MODEL_f4c0b21f114642188556aeeea619e35b",
       "value": false
      }
     },
     "b71faacdbcfa4638aa336429dd2fdc19": {
      "model_module": "@jupyter-widgets/controls",
      "model_module_version": "1.5.0",
      "model_name": "SliderStyleModel",
      "state": {
       "description_width": "auto"
      }
     },
     "b761060dcbed4f33998e48dad22f7d02": {
      "model_module": "@jupyter-widgets/controls",
      "model_module_version": "1.5.0",
      "model_name": "DescriptionStyleModel",
      "state": {
       "description_width": ""
      }
     },
     "b798ad9d4a0c4f46906d875ace47efac": {
      "model_module": "@jupyter-widgets/base",
      "model_module_version": "1.2.0",
      "model_name": "LayoutModel",
      "state": {}
     },
     "b8425044d79e42259496486d413af880": {
      "model_module": "@jupyter-widgets/output",
      "model_module_version": "1.0.0",
      "model_name": "OutputModel",
      "state": {
       "layout": "IPY_MODEL_5da9e95329214315997084c235fe298d",
       "outputs": [
        {
         "data": {
          "text/markdown": "**covid-access Job Description:** Calculates travel-time from hospitals and then calculates spatial accessibility to hospital beds for the entire state of Illinois. We calculate travel-time and aggregate spatial accessibility in parallel using 8 CPUs and about 32GB of memory. Read about the paper here: https://doi.org/10.1186/s12942-020-00229-x",
          "text/plain": "<IPython.core.display.Markdown object>"
         },
         "metadata": {},
         "output_type": "display_data"
        },
        {
         "data": {
          "text/markdown": "**keeling_community HPC Description**: none",
          "text/plain": "<IPython.core.display.Markdown object>"
         },
         "metadata": {},
         "output_type": "display_data"
        },
        {
         "data": {
          "text/markdown": "**Estimated Runtime:** ~15-20 minutes",
          "text/plain": "<IPython.core.display.Markdown object>"
         },
         "metadata": {},
         "output_type": "display_data"
        }
       ]
      }
     },
     "bb02a82fdea6451a9fcec4ed83b6beca": {
      "model_module": "@jupyter-widgets/base",
      "model_module_version": "1.2.0",
      "model_name": "LayoutModel",
      "state": {}
     },
     "bb7607fe3a1c4f0c8ab81b09689c7b35": {
      "model_module": "@jupyter-widgets/controls",
      "model_module_version": "1.5.0",
      "model_name": "ButtonModel",
      "state": {
       "description": "Restore",
       "layout": "IPY_MODEL_c01984f62dcf420da28e7eb39ae49c8f",
       "style": "IPY_MODEL_ae08548ab2574eb09fbd1960ba2c98ab"
      }
     },
     "bb7e25d212594b3dbec356dc8098de50": {
      "model_module": "@jupyter-widgets/controls",
      "model_module_version": "1.5.0",
      "model_name": "LabelModel",
      "state": {
       "layout": "IPY_MODEL_b798ad9d4a0c4f46906d875ace47efac",
       "style": "IPY_MODEL_b761060dcbed4f33998e48dad22f7d02",
       "value": "All configs are optional. Please refer to Slurm official documentation at 🔗 https://slurm.schedmd.com/sbatch.html"
      }
     },
     "bbe45e3fee034930b795f40ee2d0ee41": {
      "model_module": "@jupyter-widgets/controls",
      "model_module_version": "1.5.0",
      "model_name": "DescriptionStyleModel",
      "state": {
       "description_width": "auto"
      }
     },
     "bddf476670784ba69a16dd7da3532c71": {
      "model_module": "@jupyter-widgets/controls",
      "model_module_version": "1.5.0",
      "model_name": "AccordionModel",
      "state": {
       "_titles": {
        "0": "Input Parameters"
       },
       "children": [
        "IPY_MODEL_c4c1012e13bc40c39346bc39e059cc2d"
       ],
       "layout": "IPY_MODEL_368f00773654481fb3c9429659b91f3a",
       "selected_index": null
      }
     },
     "c01984f62dcf420da28e7eb39ae49c8f": {
      "model_module": "@jupyter-widgets/base",
      "model_module_version": "1.2.0",
      "model_name": "LayoutModel",
      "state": {}
     },
     "c3bd9761f0d74f5aa5b707f2ba9e8783": {
      "model_module": "@jupyter-widgets/controls",
      "model_module_version": "1.5.0",
      "model_name": "LabelModel",
      "state": {
       "layout": "IPY_MODEL_2d5685ebda17484aaf6563b8f372967f",
       "style": "IPY_MODEL_1fc972461d4f45428da96c156da7290e",
       "value": "All configs are optional. Please refer to Slurm official documentation at 🔗 https://slurm.schedmd.com/sbatch.html"
      }
     },
     "c4339beb9aa04a83a943f072cf18341f": {
      "model_module": "@jupyter-widgets/base",
      "model_module_version": "1.2.0",
      "model_name": "LayoutModel",
      "state": {}
     },
     "c4c1012e13bc40c39346bc39e059cc2d": {
      "model_module": "@jupyter-widgets/controls",
      "model_module_version": "1.5.0",
      "model_name": "VBoxModel",
      "state": {
       "children": [
        "IPY_MODEL_fc6104e796a44476a22ad0e52ce11120",
        "IPY_MODEL_0628edf78cd64e54b7d14e49e5a9bc87"
       ],
       "layout": "IPY_MODEL_a18169902c9544e1ae22e86a12fe9691"
      }
     },
     "c60c73e49bc546e380c3f18c9566535f": {
      "model_module": "@jupyter-widgets/controls",
      "model_module_version": "1.5.0",
      "model_name": "IntSliderModel",
      "state": {
       "continuous_update": false,
       "description": "input_a",
       "layout": "IPY_MODEL_106b2a2770c34e1785023edd71757b63",
       "step": 10,
       "style": "IPY_MODEL_b71faacdbcfa4638aa336429dd2fdc19",
       "value": 50
      }
     },
     "c7c6701788bd49ab8ad9509671fd6382": {
      "model_module": "@jupyter-widgets/controls",
      "model_module_version": "1.5.0",
      "model_name": "VBoxModel",
      "state": {
       "children": [
        "IPY_MODEL_b53c4d4b1d504e83a37069269fd4c503",
        "IPY_MODEL_7cec2649b1b04ec3a60f590addce4621"
       ],
       "layout": "IPY_MODEL_67748f3113474199b9f4676c8ab9cf9e"
      }
     },
     "c7de6ce6f76845d8bc420fe9bf83ab52": {
      "model_module": "@jupyter-widgets/controls",
      "model_module_version": "1.5.0",
      "model_name": "DescriptionStyleModel",
      "state": {
       "description_width": "auto"
      }
     },
     "c8e5db42894146079114256f607f8989": {
      "model_module": "@jupyter-widgets/base",
      "model_module_version": "1.2.0",
      "model_name": "LayoutModel",
      "state": {}
     },
     "c9e66fc76b834abdb300e2954df3eaf1": {
      "model_module": "@jupyter-widgets/controls",
      "model_module_version": "1.5.0",
      "model_name": "AccordionModel",
      "state": {
       "_titles": {
        "0": "Slurm Computing Configurations"
       },
       "children": [
        "IPY_MODEL_4b3cc34999794db1b5c688347dff178c"
       ],
       "layout": "IPY_MODEL_0dfa839a8a6b4c3c8398f3b7b8f38ae9",
       "selected_index": null
      }
     },
     "cac0767c293c4e7e8a5c6c9275a2e29e": {
      "model_module": "@jupyter-widgets/base",
      "model_module_version": "1.2.0",
      "model_name": "LayoutModel",
      "state": {}
     },
     "cad5b6217a30416ca966ffd4e672cbb3": {
      "model_module": "@jupyter-widgets/controls",
      "model_module_version": "1.5.0",
      "model_name": "LabelModel",
      "state": {
       "layout": "IPY_MODEL_ef2de4da0ab64695917bf7b0998b26a6",
       "style": "IPY_MODEL_018c315eafb945af95b0cb63a998a97c",
       "value": "All configs are optional. Please refer to Slurm official documentation at 🔗 https://slurm.schedmd.com/sbatch.html"
      }
     },
     "cc3b0b88c4ef4970b64beef35858486e": {
      "model_module": "@jupyter-widgets/base",
      "model_module_version": "1.2.0",
      "model_name": "LayoutModel",
      "state": {}
     },
     "cdbc6c728388486bab66ee4410a1abe1": {
      "model_module": "@jupyter-widgets/controls",
      "model_module_version": "1.5.0",
      "model_name": "DropdownModel",
      "state": {
       "_options_labels": [
        "keeling_community"
       ],
       "description": "🖥 Computing Recourse:",
       "index": 0,
       "layout": "IPY_MODEL_106b2a2770c34e1785023edd71757b63",
       "style": "IPY_MODEL_bbe45e3fee034930b795f40ee2d0ee41"
      }
     },
     "ce04f7c19cb548be961a86a182d2eb35": {
      "model_module": "@jupyter-widgets/base",
      "model_module_version": "1.2.0",
      "model_name": "LayoutModel",
      "state": {}
     },
     "ce5b8bae90cb40678581d4112b428d6e": {
      "model_module": "@jupyter-widgets/base",
      "model_module_version": "1.2.0",
      "model_name": "LayoutModel",
      "state": {}
     },
     "cea76a09c9ff4a0ea87e6589f0ad211a": {
      "model_module": "@jupyter-widgets/base",
      "model_module_version": "1.2.0",
      "model_name": "LayoutModel",
      "state": {}
     },
     "d323db40ab8d429281d362f5f2e609d1": {
      "model_module": "@jupyter-widgets/controls",
      "model_module_version": "1.5.0",
      "model_name": "ButtonStyleModel",
      "state": {}
     },
     "d3d16d73009442b3935272d4e39582be": {
      "model_module": "@jupyter-widgets/controls",
      "model_module_version": "1.5.0",
      "model_name": "ButtonStyleModel",
      "state": {}
     },
     "d553aa7a617140b1ac22e9c082d15878": {
      "model_module": "@jupyter-widgets/controls",
      "model_module_version": "1.5.0",
      "model_name": "VBoxModel",
      "state": {
       "children": [
        "IPY_MODEL_aa78582a03f843c6a79454dd8e97b115",
        "IPY_MODEL_839f90695561421d9cfd152175e951b7",
        "IPY_MODEL_de8ac2644f0f4cf0963246018aeab0fa"
       ],
       "layout": "IPY_MODEL_0ef587191b25497ab5c2adce94e0e3f8"
      }
     },
     "d57e039b60de498198bcf35449fd4b3a": {
      "model_module": "@jupyter-widgets/base",
      "model_module_version": "1.2.0",
      "model_name": "LayoutModel",
      "state": {}
     },
     "d581a72d1edc4970a991210281244c49": {
      "model_module": "@jupyter-widgets/base",
      "model_module_version": "1.2.0",
      "model_name": "LayoutModel",
      "state": {}
     },
     "d5efa45e22b440dca407ac09964fd517": {
      "model_module": "@jupyter-widgets/controls",
      "model_module_version": "1.5.0",
      "model_name": "ButtonModel",
      "state": {
       "description": "Restore",
       "layout": "IPY_MODEL_fdd045dfa46b4026a95f2196fcfb8ee0",
       "style": "IPY_MODEL_52e876d47ff84e24aa42583c2b2baec2"
      }
     },
     "d62339098d94469aa53c310e44dc1f57": {
      "model_module": "@jupyter-widgets/base",
      "model_module_version": "1.2.0",
      "model_name": "LayoutModel",
      "state": {}
     },
     "d6a648a188aa4e30b3b809bf3dd5b67e": {
      "model_module": "@jupyter-widgets/output",
      "model_module_version": "1.0.0",
      "model_name": "OutputModel",
      "state": {
       "layout": "IPY_MODEL_27c9accced514166b08e0794c2da3104",
       "outputs": [
        {
         "data": {
          "text/markdown": "**Recently Submitted Jobs for alexandermichels**",
          "text/plain": "<IPython.core.display.Markdown object>"
         },
         "metadata": {},
         "output_type": "display_data"
        },
        {
         "data": {
          "text/html": "<table>\n<thead>\n<tr><th style=\"text-align:left\">id             </th><th style=\"text-align:left\">slurmId  </th><th style=\"text-align:left\">hpc              </th><th style=\"text-align:left\">executableFolder  </th><th style=\"text-align:left\">dataFolder  </th><th style=\"text-align:left\">resultFolder                                                                                                                                                   </th><th style=\"text-align:left\">param  </th><th style=\"text-align:left\">slurm                                                                          </th><th style=\"text-align:left\">userId                                      </th><th style=\"text-align:left\">maintainer            </th><th style=\"text-align:left\">createdAt               </th></tr>\n</thead>\n<tbody>\n<tr><td style=\"text-align:left\">1658163317OGclc</td><td style=\"text-align:left\">856641   </td><td style=\"text-align:left\">keeling_community</td><td style=\"text-align:left\">git://covid-access</td><td style=\"text-align:left\">            </td><td style=\"text-align:left\">globus://418e684e-1260-11ec-ba7d-138ac5bdb19f:/~/data/cigi/cybergis-jupyter/production_data/notebook_home_data/alexandermichels/globus_download_1658163317OGclc</td><td style=\"text-align:left\">{}     </td><td style=\"text-align:left\">{&quot;time&quot;: &quot;20:00&quot;, &quot;num_of_task&quot;: 8, &quot;cpu_per_task&quot;: 1, &quot;memory_per_cpu&quot;: &quot;4GB&quot;}</td><td style=\"text-align:left\">alexandermichels@cybergisx.cigi.illinois.edu</td><td style=\"text-align:left\">community_contribution</td><td style=\"text-align:left\">2022-07-18T16:55:16.000Z</td></tr>\n</tbody>\n</table>",
          "text/plain": "<IPython.core.display.HTML object>"
         },
         "metadata": {},
         "output_type": "display_data"
        },
        {
         "data": {
          "application/vnd.jupyter.widget-view+json": {
           "model_id": "edf1ae96841741f5a83a07220710886d",
           "version_major": 2,
           "version_minor": 0
          },
          "text/plain": "Button(description='Restore', style=ButtonStyle())"
         },
         "metadata": {},
         "output_type": "display_data"
        },
        {
         "data": {
          "text/html": "<table>\n<thead>\n<tr><th style=\"text-align:left\">id             </th><th style=\"text-align:left\">slurmId  </th><th style=\"text-align:left\">hpc              </th><th style=\"text-align:left\">executableFolder  </th><th style=\"text-align:left\">dataFolder  </th><th style=\"text-align:left\">resultFolder                                                                                                                                                   </th><th style=\"text-align:left\">param  </th><th style=\"text-align:left\">slurm                                                                           </th><th style=\"text-align:left\">userId                                      </th><th style=\"text-align:left\">maintainer            </th><th style=\"text-align:left\">createdAt               </th></tr>\n</thead>\n<tbody>\n<tr><td style=\"text-align:left\">16581611571uNyg</td><td style=\"text-align:left\">856627   </td><td style=\"text-align:left\">keeling_community</td><td style=\"text-align:left\">git://covid-access</td><td style=\"text-align:left\">            </td><td style=\"text-align:left\">globus://418e684e-1260-11ec-ba7d-138ac5bdb19f:/~/data/cigi/cybergis-jupyter/production_data/notebook_home_data/alexandermichels/globus_download_16581611571uNyg</td><td style=\"text-align:left\">{}     </td><td style=\"text-align:left\">{&quot;time&quot;: &quot;30:00&quot;, &quot;num_of_task&quot;: 1, &quot;cpu_per_task&quot;: 1, &quot;memory_per_cpu&quot;: &quot;16GB&quot;}</td><td style=\"text-align:left\">alexandermichels@cybergisx.cigi.illinois.edu</td><td style=\"text-align:left\">community_contribution</td><td style=\"text-align:left\">2022-07-18T16:19:17.000Z</td></tr>\n</tbody>\n</table>",
          "text/plain": "<IPython.core.display.HTML object>"
         },
         "metadata": {},
         "output_type": "display_data"
        },
        {
         "data": {
          "application/vnd.jupyter.widget-view+json": {
           "model_id": "d5efa45e22b440dca407ac09964fd517",
           "version_major": 2,
           "version_minor": 0
          },
          "text/plain": "Button(description='Restore', style=ButtonStyle())"
         },
         "metadata": {},
         "output_type": "display_data"
        },
        {
         "data": {
          "text/html": "<table>\n<thead>\n<tr><th style=\"text-align:left\">id             </th><th style=\"text-align:left\">slurmId  </th><th style=\"text-align:left\">hpc              </th><th style=\"text-align:left\">executableFolder  </th><th style=\"text-align:left\">dataFolder  </th><th style=\"text-align:left\">resultFolder                                                                                                                                                   </th><th style=\"text-align:left\">param  </th><th style=\"text-align:left\">slurm                                                                           </th><th style=\"text-align:left\">userId                                      </th><th style=\"text-align:left\">maintainer            </th><th style=\"text-align:left\">createdAt               </th></tr>\n</thead>\n<tbody>\n<tr><td style=\"text-align:left\">1658159264A7Zin</td><td style=\"text-align:left\">856502   </td><td style=\"text-align:left\">keeling_community</td><td style=\"text-align:left\">git://covid-access</td><td style=\"text-align:left\">            </td><td style=\"text-align:left\">globus://418e684e-1260-11ec-ba7d-138ac5bdb19f:/~/data/cigi/cybergis-jupyter/production_data/notebook_home_data/alexandermichels/globus_download_1658159264A7Zin</td><td style=\"text-align:left\">{}     </td><td style=\"text-align:left\">{&quot;time&quot;: &quot;30:00&quot;, &quot;num_of_task&quot;: 1, &quot;cpu_per_task&quot;: 1, &quot;memory_per_cpu&quot;: &quot;16GB&quot;}</td><td style=\"text-align:left\">alexandermichels@cybergisx.cigi.illinois.edu</td><td style=\"text-align:left\">community_contribution</td><td style=\"text-align:left\">2022-07-18T15:47:43.000Z</td></tr>\n</tbody>\n</table>",
          "text/plain": "<IPython.core.display.HTML object>"
         },
         "metadata": {},
         "output_type": "display_data"
        },
        {
         "data": {
          "application/vnd.jupyter.widget-view+json": {
           "model_id": "f953dfc26e874a8dbe9866d493ca03b5",
           "version_major": 2,
           "version_minor": 0
          },
          "text/plain": "Button(description='Restore', style=ButtonStyle())"
         },
         "metadata": {},
         "output_type": "display_data"
        },
        {
         "data": {
          "text/html": "<table>\n<thead>\n<tr><th style=\"text-align:left\">id             </th><th style=\"text-align:left\">slurmId  </th><th style=\"text-align:left\">hpc              </th><th style=\"text-align:left\">executableFolder  </th><th style=\"text-align:left\">dataFolder  </th><th style=\"text-align:left\">resultFolder                                                                                                                                                   </th><th style=\"text-align:left\">param                            </th><th style=\"text-align:left\">slurm                                                 </th><th style=\"text-align:left\">userId                                      </th><th style=\"text-align:left\">maintainer            </th><th style=\"text-align:left\">createdAt               </th></tr>\n</thead>\n<tbody>\n<tr><td style=\"text-align:left\">1658157085zqe60</td><td style=\"text-align:left\">856446   </td><td style=\"text-align:left\">keeling_community</td><td style=\"text-align:left\">git://hello_world </td><td style=\"text-align:left\">            </td><td style=\"text-align:left\">globus://418e684e-1260-11ec-ba7d-138ac5bdb19f:/~/data/cigi/cybergis-jupyter/production_data/notebook_home_data/alexandermichels/globus_download_1658157085zqe60</td><td style=\"text-align:left\">{&quot;input_a&quot;: 80, &quot;input_b&quot;: &quot;foo&quot;}</td><td style=\"text-align:left\">{&quot;time&quot;: &quot;20:00&quot;, &quot;num_of_task&quot;: 6, &quot;cpu_per_task&quot;: 1}</td><td style=\"text-align:left\">alexandermichels@cybergisx.cigi.illinois.edu</td><td style=\"text-align:left\">community_contribution</td><td style=\"text-align:left\">2022-07-18T15:11:25.000Z</td></tr>\n</tbody>\n</table>",
          "text/plain": "<IPython.core.display.HTML object>"
         },
         "metadata": {},
         "output_type": "display_data"
        },
        {
         "data": {
          "application/vnd.jupyter.widget-view+json": {
           "model_id": "654b89af093041c49143872d304e7540",
           "version_major": 2,
           "version_minor": 0
          },
          "text/plain": "Button(description='Restore', style=ButtonStyle())"
         },
         "metadata": {},
         "output_type": "display_data"
        },
        {
         "data": {
          "text/html": "<table>\n<thead>\n<tr><th style=\"text-align:left\">id             </th><th style=\"text-align:left\">slurmId  </th><th style=\"text-align:left\">hpc              </th><th style=\"text-align:left\">executableFolder  </th><th style=\"text-align:left\">dataFolder  </th><th style=\"text-align:left\">resultFolder                                                                                                                                                   </th><th style=\"text-align:left\">param  </th><th style=\"text-align:left\">slurm                                                                  </th><th style=\"text-align:left\">userId                                      </th><th style=\"text-align:left\">maintainer            </th><th style=\"text-align:left\">createdAt               </th></tr>\n</thead>\n<tbody>\n<tr><td style=\"text-align:left\">165815634038A2H</td><td style=\"text-align:left\">856434   </td><td style=\"text-align:left\">keeling_community</td><td style=\"text-align:left\">git://pysal-access</td><td style=\"text-align:left\">            </td><td style=\"text-align:left\">globus://418e684e-1260-11ec-ba7d-138ac5bdb19f:/~/data/cigi/cybergis-jupyter/production_data/notebook_home_data/alexandermichels/globus_download_165815634038A2H</td><td style=\"text-align:left\">{}     </td><td style=\"text-align:left\">{&quot;time&quot;: &quot;20:00&quot;, &quot;num_of_task&quot;: 1, &quot;cpu_per_task&quot;: 1, &quot;memory&quot;: &quot;4GB&quot;}</td><td style=\"text-align:left\">alexandermichels@cybergisx.cigi.illinois.edu</td><td style=\"text-align:left\">community_contribution</td><td style=\"text-align:left\">2022-07-18T14:58:59.000Z</td></tr>\n</tbody>\n</table>",
          "text/plain": "<IPython.core.display.HTML object>"
         },
         "metadata": {},
         "output_type": "display_data"
        },
        {
         "data": {
          "application/vnd.jupyter.widget-view+json": {
           "model_id": "561867e7e89e47b3ba6808402e8bb8d0",
           "version_major": 2,
           "version_minor": 0
          },
          "text/plain": "Button(description='Restore', style=ButtonStyle())"
         },
         "metadata": {},
         "output_type": "display_data"
        }
       ]
      }
     },
     "d89d7bb9145d4746b1e041368bcad178": {
      "model_module": "@jupyter-widgets/controls",
      "model_module_version": "1.5.0",
      "model_name": "IntSliderModel",
      "state": {
       "continuous_update": false,
       "description": "memory_per_cpu (GB)",
       "layout": "IPY_MODEL_106b2a2770c34e1785023edd71757b63",
       "max": 4,
       "min": 4,
       "style": "IPY_MODEL_7296fd9be744465ea102268c35509ff2",
       "value": 4
      }
     },
     "d974ed372a944c638422861263ad10e5": {
      "model_module": "@jupyter-widgets/base",
      "model_module_version": "1.2.0",
      "model_name": "LayoutModel",
      "state": {}
     },
     "da36596f852749c6a2daad900f1dba14": {
      "model_module": "@jupyter-widgets/controls",
      "model_module_version": "1.5.0",
      "model_name": "ButtonStyleModel",
      "state": {}
     },
     "da4eb4322e6c4849817129a4042e0bc8": {
      "model_module": "@jupyter-widgets/controls",
      "model_module_version": "1.5.0",
      "model_name": "DropdownModel",
      "state": {
       "_options_labels": [
        "/",
        "/slurm_log"
       ],
       "description": "select file/folder",
       "index": 0,
       "layout": "IPY_MODEL_d581a72d1edc4970a991210281244c49",
       "style": "IPY_MODEL_00952242e366447e9c365f80c70bc6cf"
      }
     },
     "db79c5e4b2d9464a80783ef53a6a873f": {
      "model_module": "@jupyter-widgets/controls",
      "model_module_version": "1.5.0",
      "model_name": "SliderStyleModel",
      "state": {
       "description_width": "auto"
      }
     },
     "dbc9ea7c0f7d4246b0552e8ba39b5726": {
      "model_module": "@jupyter-widgets/controls",
      "model_module_version": "1.5.0",
      "model_name": "VBoxModel",
      "state": {
       "children": [
        "IPY_MODEL_4074b9f326e54d38888a2008a8bb0f22",
        "IPY_MODEL_5590a1be57294eab8a90fe256cc2a6fe"
       ],
       "layout": "IPY_MODEL_6292f760a520460c8b2cf0826765fafa"
      }
     },
     "dc4ef383a1bf4dbaa76d0982d76d3320": {
      "model_module": "@jupyter-widgets/controls",
      "model_module_version": "1.5.0",
      "model_name": "ButtonStyleModel",
      "state": {}
     },
     "dc536dcb7bd2464287b1e40050fca460": {
      "model_module": "@jupyter-widgets/controls",
      "model_module_version": "1.5.0",
      "model_name": "AccordionModel",
      "state": {
       "_titles": {
        "0": "Computing Resource"
       },
       "children": [
        "IPY_MODEL_ab630f230580456997340ae0210c9560"
       ],
       "layout": "IPY_MODEL_c8e5db42894146079114256f607f8989",
       "selected_index": null
      }
     },
     "dd2a02b77ade437aabe62e79679d0aa5": {
      "model_module": "@jupyter-widgets/base",
      "model_module_version": "1.2.0",
      "model_name": "LayoutModel",
      "state": {}
     },
     "ddb04cb50caa40ec9eb0887bb64838b3": {
      "model_module": "@jupyter-widgets/base",
      "model_module_version": "1.2.0",
      "model_name": "LayoutModel",
      "state": {}
     },
     "de1ae2a4115a48c2a830933879e2b520": {
      "model_module": "@jupyter-widgets/base",
      "model_module_version": "1.2.0",
      "model_name": "LayoutModel",
      "state": {}
     },
     "de3353189f7d488fb560ae2d265e1f5c": {
      "model_module": "@jupyter-widgets/controls",
      "model_module_version": "1.5.0",
      "model_name": "DescriptionStyleModel",
      "state": {
       "description_width": "auto"
      }
     },
     "de8ac2644f0f4cf0963246018aeab0fa": {
      "model_module": "@jupyter-widgets/controls",
      "model_module_version": "1.5.0",
      "model_name": "IntSliderModel",
      "state": {
       "continuous_update": false,
       "description": "memory_per_cpu (GB)",
       "layout": "IPY_MODEL_106b2a2770c34e1785023edd71757b63",
       "max": 4,
       "min": 4,
       "style": "IPY_MODEL_4dbd7b3e5fb1421c9855b2b99849aac9",
       "value": 4
      }
     },
     "e046677ffd4946149ca518334a5abd58": {
      "model_module": "@jupyter-widgets/controls",
      "model_module_version": "1.5.0",
      "model_name": "IntSliderModel",
      "state": {
       "continuous_update": false,
       "description": "input_a",
       "layout": "IPY_MODEL_106b2a2770c34e1785023edd71757b63",
       "step": 10,
       "style": "IPY_MODEL_5459a1272d114b10866a4a45fb69a11c",
       "value": 50
      }
     },
     "e0acbdf296064cfd876d741737cfdeab": {
      "model_module": "@jupyter-widgets/base",
      "model_module_version": "1.2.0",
      "model_name": "LayoutModel",
      "state": {}
     },
     "e0e6bd18b7e7495384843e73b0a0a56d": {
      "model_module": "@jupyter-widgets/controls",
      "model_module_version": "1.5.0",
      "model_name": "ButtonStyleModel",
      "state": {}
     },
     "e34c0710ab214ad1b2d2c77cca75ec64": {
      "model_module": "@jupyter-widgets/base",
      "model_module_version": "1.2.0",
      "model_name": "LayoutModel",
      "state": {}
     },
     "e3b67643f0ad45629ca68f4617fbf9ca": {
      "model_module": "@jupyter-widgets/controls",
      "model_module_version": "1.5.0",
      "model_name": "DropdownModel",
      "state": {
       "_options_labels": [
        "keeling_community"
       ],
       "description": "🖥 Computing Recourse:",
       "index": 0,
       "layout": "IPY_MODEL_106b2a2770c34e1785023edd71757b63",
       "style": "IPY_MODEL_e7a6530f88fc4dd098b36eaaa0ccc2b3"
      }
     },
     "e59ecf130c274cfab5ecd9ef4041a7fc": {
      "model_module": "@jupyter-widgets/controls",
      "model_module_version": "1.5.0",
      "model_name": "AccordionModel",
      "state": {
       "_titles": {
        "0": "Computing Resource"
       },
       "children": [
        "IPY_MODEL_cdbc6c728388486bab66ee4410a1abe1"
       ],
       "layout": "IPY_MODEL_8b479e8079eb4403aa906335e80adb03",
       "selected_index": null
      }
     },
     "e5d34292cfbc48c7a75c9de4e4a59873": {
      "model_module": "@jupyter-widgets/controls",
      "model_module_version": "1.5.0",
      "model_name": "ButtonStyleModel",
      "state": {}
     },
     "e5e83b5dac0049ff9e147174c7eebe78": {
      "model_module": "@jupyter-widgets/base",
      "model_module_version": "1.2.0",
      "model_name": "LayoutModel",
      "state": {}
     },
     "e618e9f6e04a40e2b655ee959ac11991": {
      "model_module": "@jupyter-widgets/controls",
      "model_module_version": "1.5.0",
      "model_name": "ButtonStyleModel",
      "state": {}
     },
     "e65c36bdebfc47889dfef8394f3e198f": {
      "model_module": "@jupyter-widgets/base",
      "model_module_version": "1.2.0",
      "model_name": "LayoutModel",
      "state": {
       "width": "500px"
      }
     },
     "e7a6530f88fc4dd098b36eaaa0ccc2b3": {
      "model_module": "@jupyter-widgets/controls",
      "model_module_version": "1.5.0",
      "model_name": "DescriptionStyleModel",
      "state": {
       "description_width": "auto"
      }
     },
     "e7cc31dd38b244648b6fc38eb2a760f7": {
      "model_module": "@jupyter-widgets/base",
      "model_module_version": "1.2.0",
      "model_name": "LayoutModel",
      "state": {}
     },
     "e7cea5228541461795988f665dd7aa26": {
      "model_module": "@jupyter-widgets/controls",
      "model_module_version": "1.5.0",
      "model_name": "SliderStyleModel",
      "state": {
       "description_width": "auto"
      }
     },
     "e927179e51414193a31396674112cc70": {
      "model_module": "@jupyter-widgets/controls",
      "model_module_version": "1.5.0",
      "model_name": "DescriptionStyleModel",
      "state": {
       "description_width": ""
      }
     },
     "e9f9c3e0ead643188bec596f1cd610d8": {
      "model_module": "@jupyter-widgets/controls",
      "model_module_version": "1.5.0",
      "model_name": "ButtonModel",
      "state": {
       "description": "Download",
       "disabled": true,
       "layout": "IPY_MODEL_27482a1ab2a24b3d8e16f3b0861692c9",
       "style": "IPY_MODEL_e618e9f6e04a40e2b655ee959ac11991"
      }
     },
     "ea6a5782b1964864b921bcebf2276559": {
      "model_module": "@jupyter-widgets/output",
      "model_module_version": "1.0.0",
      "model_name": "OutputModel",
      "state": {
       "layout": "IPY_MODEL_d62339098d94469aa53c310e44dc1f57",
       "outputs": [
        {
         "data": {
          "application/vnd.jupyter.widget-view+json": {
           "model_id": "40f8b4ec67ca439083e9ba7327f6eaab",
           "version_major": 2,
           "version_minor": 0
          },
          "text/plain": "Output()"
         },
         "metadata": {},
         "output_type": "display_data"
        },
        {
         "data": {
          "text/markdown": "***",
          "text/plain": "<IPython.core.display.Markdown object>"
         },
         "metadata": {},
         "output_type": "display_data"
        },
        {
         "data": {
          "text/markdown": "## 📋 job events (live refresh)",
          "text/plain": "<IPython.core.display.Markdown object>"
         },
         "metadata": {},
         "output_type": "display_data"
        },
        {
         "data": {
          "application/vnd.jupyter.widget-view+json": {
           "model_id": "1768d2e93e1543f5b2a8e16e07959d8b",
           "version_major": 2,
           "version_minor": 0
          },
          "text/plain": "Output()"
         },
         "metadata": {},
         "output_type": "display_data"
        },
        {
         "data": {
          "text/markdown": "***",
          "text/plain": "<IPython.core.display.Markdown object>"
         },
         "metadata": {},
         "output_type": "display_data"
        },
        {
         "data": {
          "text/markdown": "## 📋 job logs",
          "text/plain": "<IPython.core.display.Markdown object>"
         },
         "metadata": {},
         "output_type": "display_data"
        },
        {
         "data": {
          "application/vnd.jupyter.widget-view+json": {
           "model_id": "6ac57afc012c4fbc9d778d68867d71b6",
           "version_major": 2,
           "version_minor": 0
          },
          "text/plain": "Output()"
         },
         "metadata": {},
         "output_type": "display_data"
        }
       ]
      }
     },
     "ebfbd50d61954dd78aea9c63fdbf919a": {
      "model_module": "@jupyter-widgets/controls",
      "model_module_version": "1.5.0",
      "model_name": "SliderStyleModel",
      "state": {
       "description_width": "auto"
      }
     },
     "ec697486c1704b91bd3832b6eb1e72b4": {
      "model_module": "@jupyter-widgets/controls",
      "model_module_version": "1.5.0",
      "model_name": "ButtonModel",
      "state": {
       "description": "Load More",
       "layout": "IPY_MODEL_2bc2d226a08d46358bc4c407d43581be",
       "style": "IPY_MODEL_e0e6bd18b7e7495384843e73b0a0a56d"
      }
     },
     "ed057a2861e24d92a155753feb706d7c": {
      "model_module": "@jupyter-widgets/controls",
      "model_module_version": "1.5.0",
      "model_name": "ButtonModel",
      "state": {
       "description": "🔁 Loading",
       "disabled": true,
       "layout": "IPY_MODEL_8a9cc196ba614bb588fd880c21d048d7",
       "style": "IPY_MODEL_89a0fdd8f8d14df59611b7ffac66d868"
      }
     },
     "edf1ae96841741f5a83a07220710886d": {
      "model_module": "@jupyter-widgets/controls",
      "model_module_version": "1.5.0",
      "model_name": "ButtonModel",
      "state": {
       "description": "Restore",
       "layout": "IPY_MODEL_5828265d0c26477d841ebcf05c20cc41",
       "style": "IPY_MODEL_d3d16d73009442b3935272d4e39582be"
      }
     },
     "ee8b425c84ba400aae936abbc8accc55": {
      "model_module": "@jupyter-widgets/controls",
      "model_module_version": "1.5.0",
      "model_name": "SliderStyleModel",
      "state": {
       "description_width": "auto"
      }
     },
     "ef2de4da0ab64695917bf7b0998b26a6": {
      "model_module": "@jupyter-widgets/base",
      "model_module_version": "1.2.0",
      "model_name": "LayoutModel",
      "state": {}
     },
     "f0c2ee59146a40ab98e58297bce45458": {
      "model_module": "@jupyter-widgets/controls",
      "model_module_version": "1.5.0",
      "model_name": "ButtonStyleModel",
      "state": {}
     },
     "f1cf63d7fad14fa1beceb84a5eb78880": {
      "model_module": "@jupyter-widgets/output",
      "model_module_version": "1.0.0",
      "model_name": "OutputModel",
      "state": {
       "layout": "IPY_MODEL_c4339beb9aa04a83a943f072cf18341f",
       "outputs": [
        {
         "data": {
          "application/vnd.jupyter.widget-view+json": {
           "model_id": "ec697486c1704b91bd3832b6eb1e72b4",
           "version_major": 2,
           "version_minor": 0
          },
          "text/plain": "Button(description='Load More', style=ButtonStyle())"
         },
         "metadata": {},
         "output_type": "display_data"
        }
       ]
      }
     },
     "f27a2c5f95bc444681d45a2789cb9af8": {
      "model_module": "@jupyter-widgets/base",
      "model_module_version": "1.2.0",
      "model_name": "LayoutModel",
      "state": {}
     },
     "f4c0b21f114642188556aeeea619e35b": {
      "model_module": "@jupyter-widgets/controls",
      "model_module_version": "1.5.0",
      "model_name": "DescriptionStyleModel",
      "state": {
       "description_width": "auto"
      }
     },
     "f54f90e86fe64464a33fae5c0aa39beb": {
      "model_module": "@jupyter-widgets/controls",
      "model_module_version": "1.5.0",
      "model_name": "VBoxModel",
      "state": {
       "children": [
        "IPY_MODEL_acb35c50f1834dcaaee5945b14651a6e",
        "IPY_MODEL_aae5b351aa3f4e4f9c8be548110b5013",
        "IPY_MODEL_94495c2043af4fae94d1daf1952b2c06"
       ],
       "layout": "IPY_MODEL_cea76a09c9ff4a0ea87e6589f0ad211a"
      }
     },
     "f702ec4e09904af3b4c61e643e3f1a08": {
      "model_module": "@jupyter-widgets/controls",
      "model_module_version": "1.5.0",
      "model_name": "VBoxModel",
      "state": {
       "children": [
        "IPY_MODEL_c60c73e49bc546e380c3f18c9566535f",
        "IPY_MODEL_a0dc622b4fa340f48e5c8302888a0cf2"
       ],
       "layout": "IPY_MODEL_582f07a28a384a1abdb090c7d7af4507"
      }
     },
     "f707783c98db424d848b59715b61ed0f": {
      "model_module": "@jupyter-widgets/controls",
      "model_module_version": "1.5.0",
      "model_name": "AccordionModel",
      "state": {
       "_titles": {
        "0": "Slurm Computing Configurations"
       },
       "children": [
        "IPY_MODEL_6465ebbe2aeb45e3ab3e761acb57def2"
       ],
       "layout": "IPY_MODEL_5a80595afb8a4afbb95052f03f3c9708",
       "selected_index": null
      }
     },
     "f953dfc26e874a8dbe9866d493ca03b5": {
      "model_module": "@jupyter-widgets/controls",
      "model_module_version": "1.5.0",
      "model_name": "ButtonModel",
      "state": {
       "description": "Restore",
       "layout": "IPY_MODEL_53b22f7474e64e85a2b5a465aac5421d",
       "style": "IPY_MODEL_41ff2e34274a450db77c122205c596da"
      }
     },
     "fc6104e796a44476a22ad0e52ce11120": {
      "model_module": "@jupyter-widgets/controls",
      "model_module_version": "1.5.0",
      "model_name": "IntSliderModel",
      "state": {
       "continuous_update": false,
       "description": "input_a",
       "layout": "IPY_MODEL_106b2a2770c34e1785023edd71757b63",
       "step": 10,
       "style": "IPY_MODEL_ee8b425c84ba400aae936abbc8accc55",
       "value": 50
      }
     },
     "fdd045dfa46b4026a95f2196fcfb8ee0": {
      "model_module": "@jupyter-widgets/base",
      "model_module_version": "1.2.0",
      "model_name": "LayoutModel",
      "state": {}
     }
    },
    "version_major": 2,
    "version_minor": 0
   }
  }
 },
 "nbformat": 4,
 "nbformat_minor": 5
}
